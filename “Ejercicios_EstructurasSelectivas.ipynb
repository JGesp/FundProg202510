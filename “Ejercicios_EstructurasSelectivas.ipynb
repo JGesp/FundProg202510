{
  "nbformat": 4,
  "nbformat_minor": 0,
  "metadata": {
    "colab": {
      "provenance": [],
      "include_colab_link": true
    },
    "kernelspec": {
      "name": "python3",
      "display_name": "Python 3"
    },
    "language_info": {
      "name": "python"
    }
  },
  "cells": [
    {
      "cell_type": "markdown",
      "metadata": {
        "id": "view-in-github",
        "colab_type": "text"
      },
      "source": [
        "<a href=\"https://colab.research.google.com/github/JGesp/FundProg202510/blob/main/%E2%80%9CEjercicios_EstructurasSelectivas.ipynb\" target=\"_parent\"><img src=\"https://colab.research.google.com/assets/colab-badge.svg\" alt=\"Open In Colab\"/></a>"
      ]
    },
    {
      "cell_type": "markdown",
      "source": [
        "#ESTRUCTURAS SELECTIVAS\n",
        "Fecha: 14/03/25<br>\n",
        "- Nombre: Jose Tomas Velasquez Perez\n",
        "- ID:000565025\n",
        "- Correo: joset.velasquez@upb.edu.co\n",
        "\n",
        "\n",
        "\n",
        "- Nombre: Santiago Villarreal Mendivil\n",
        "- ID: 000577548\n",
        "- Correo:santiago.villarreal@upb.edu.co\n",
        "\n",
        "\n",
        "\n",
        "- Nombre: Jesus Gabriel Espitia Portillo\n",
        "- ID:000574185\n",
        "- Correo: jesus.espitia@upb.edu.co\n",
        "\n",
        "\n",
        "\n",
        "- Nombre:Samuel Andres Oyola Giraldo\n",
        "- ID: 000578808\n",
        "- Correo:samuel.oyola@upb.edu.co"
      ],
      "metadata": {
        "id": "gbof9BFSeszp"
      }
    },
    {
      "cell_type": "markdown",
      "source": [
        "##1. Números Romanos\n",
        "\n",
        "Diseña un programa que solicite al usuario ingresar un número dentro del rango de 1 a 10.\n",
        "El programa debe mostrar la versión en números romanos de ese número. Si el número está fuera del rango de 1 a 10, el programa debe mostrar un mensaje de error."
      ],
      "metadata": {
        "id": "RxyKi4sygTU6"
      }
    },
    {
      "cell_type": "markdown",
      "source": [
        "###PSEUDOCODIGO\n",
        "\n",
        "```\n",
        "Program numeros_romanos\n",
        "Start\n",
        "    Declare Integer number\n",
        "    Declare String roman\n",
        "\n",
        "    Display \"Enter a number between 1-10\"\n",
        "    Input number\n",
        "\n",
        "    Select number:\n",
        "        Case 1:\n",
        "            Set roman = \"I\"\n",
        "        Case 2:\n",
        "            Set roman = \"II\"\n",
        "        Case 3:\n",
        "            Set roman = \"III\"\n",
        "        Case 4:\n",
        "            Set roman = \"IV\"\n",
        "        Case 5:\n",
        "            Set roman = \"V\"\n",
        "        Case 6:\n",
        "            Set roman = \"VI\"\n",
        "        Case 7:\n",
        "            Set roman = \"VII\"\n",
        "        Case 8:\n",
        "            Set roman = \"VIII\"\n",
        "        Case 9:\n",
        "            Set roman = \"IX\"\n",
        "        Case 10:\n",
        "            Set roman = \"X\"\n",
        "        Default:\n",
        "            Display \"Invalid Number! Please enter a number between 1-10\"\n",
        "            Stop\n",
        "    End Select\n",
        "\n",
        "    Display \"The Roman number is: \", roman\n",
        "End\n",
        "\n",
        "```\n"
      ],
      "metadata": {
        "id": "LHNkiWOzh0tG"
      }
    },
    {
      "cell_type": "markdown",
      "source": [
        "###CODIGO"
      ],
      "metadata": {
        "id": "5FAKZ0NsiGeC"
      }
    },
    {
      "cell_type": "code",
      "execution_count": null,
      "metadata": {
        "colab": {
          "base_uri": "https://localhost:8080/"
        },
        "id": "ZF4Fxrprengo",
        "outputId": "6ed51d13-df96-4294-ba06-9e4e89ad0e76"
      },
      "outputs": [
        {
          "output_type": "stream",
          "name": "stdout",
          "text": [
            "Ingrese un número entre 1 y 10: 11\n",
            "El número romano es: ¡Número inválido! Por favor, ingrese un número entre 1 y 10.\n"
          ]
        }
      ],
      "source": [
        "def numero_a_romano(numero):\n",
        "    match numero:\n",
        "        case 1: return \"I\"\n",
        "        case 2: return \"II\"\n",
        "        case 3: return \"III\"\n",
        "        case 4: return \"IV\"\n",
        "        case 5: return \"V\"\n",
        "        case 6: return \"VI\"\n",
        "        case 7: return \"VII\"\n",
        "        case 8: return \"VIII\"\n",
        "        case 9: return \"IX\"\n",
        "        case 10: return \"X\"\n",
        "        case _: return \"¡Número inválido! Por favor, ingrese un número entre 1 y 10.\"\n",
        "\n",
        "try:\n",
        "    numero = int(input(\"Ingrese un número entre 1 y 10: \"))\n",
        "    print(\"El número romano es:\", numero_a_romano(numero))\n",
        "except ValueError:\n",
        "    print(\"¡Entrada inválida! Debe ingresar un número entero.\")"
      ]
    },
    {
      "cell_type": "markdown",
      "source": [
        "##2. Áreas de Rectángulos  \n",
        "\n",
        "El área de un rectángulo se calcula multiplicando su longitud por su ancho. Diseña un programa que solicite la longitud y el ancho de dos rectángulos. El programa debe informar al usuario cuál de los rectángulos tiene un área mayor o si ambas áreas son iguales."
      ],
      "metadata": {
        "id": "MnFnsXtziOnX"
      }
    },
    {
      "cell_type": "markdown",
      "source": [
        "###PSEUDOCODIGO\n",
        "\n",
        "```\n",
        "Program areas_rectangulos\n",
        "Start\n",
        "    Declare Real length1, width1, length2, width2\n",
        "    Declare Real area1, area2\n",
        "\n",
        "    Display \"Enter the length of the first rectangle:\"\n",
        "    Input length1\n",
        "    Display \"Enter the width of the first rectangle:\"\n",
        "    Input width1\n",
        "\n",
        "    Display \"Enter the length of the second rectangle:\"\n",
        "    Input length2\n",
        "    Display \"Enter the width of the second rectangle:\"\n",
        "    Input width2\n",
        "\n",
        "    Set area1 = length1 * width1\n",
        "    Set area2 = length2 * width2\n",
        "\n",
        "    If area1 > area2 Then\n",
        "        Display \"The first rectangle has a larger area.\"\n",
        "    Else If area2 > area1 Then\n",
        "        Display \"The second rectangle has a larger area.\"\n",
        "    Else\n",
        "        Display \"Both rectangles have the same area.\"\n",
        "    End If\n",
        "End\n",
        "\n",
        "```\n"
      ],
      "metadata": {
        "id": "1YUOFFVoi2sV"
      }
    },
    {
      "cell_type": "markdown",
      "source": [
        "###CODIGO"
      ],
      "metadata": {
        "id": "4V6C80CxjDAd"
      }
    },
    {
      "cell_type": "code",
      "source": [
        "length1 = float(input(\"Enter the length of the first rectangle: \"))\n",
        "width1 = float(input(\"Enter the width of the first rectangle: \"))\n",
        "length2 = float(input(\"Enter the length of the second rectangle: \"))\n",
        "width2 = float(input(\"Enter the width of the second rectangle: \"))\n",
        "\n",
        "area1 = length1 * width1\n",
        "area2 = length2 * width2\n",
        "\n",
        "if area1 > area2:\n",
        "    print(\"The first rectangle has a larger area.\")\n",
        "elif area2 > area1:\n",
        "    print(\"The second rectangle has a larger area.\")\n",
        "else:\n",
        "    print(\"Both rectangles have the same area.\")115\n"
      ],
      "metadata": {
        "colab": {
          "base_uri": "https://localhost:8080/"
        },
        "id": "6AzLKpO8jAjR",
        "outputId": "20b5f0e0-4b76-4c5f-dcd0-ffa2313e9853"
      },
      "execution_count": null,
      "outputs": [
        {
          "output_type": "stream",
          "name": "stdout",
          "text": [
            "Enter the length of the first rectangle: 11\n",
            "Enter the width of the first rectangle: 2\n",
            "Enter the length of the second rectangle: 13\n",
            "Enter the width of the second rectangle: 14\n",
            "The second rectangle has a larger area.\n"
          ]
        }
      ]
    },
    {
      "cell_type": "markdown",
      "source": [
        "##3. Masa y Peso  \n",
        "Los científicos miden la masa de un objeto en kilogramos y su peso en Newtons. Si conoces la\n",
        "cantidad de masa de un objeto. Diseña un programa que solicite al usuario ingresar la masa de un objeto y luego calcule su peso. Si el\n",
        "objeto pesa más de 1,000 Newtons, muestra un mensaje indicando que es demasiado pesado. Si el\n",
        "objeto pesa menos de 10 Newtons, muestra un mensaje indicando que es demasiado ligero."
      ],
      "metadata": {
        "id": "vz1NrH7-jQ79"
      }
    },
    {
      "cell_type": "markdown",
      "source": [
        "###PSEUDOCODIGO\n",
        "```\n",
        "Program calcular_peso\n",
        "Start\n",
        "    Declare Real mass, weight\n",
        "\n",
        "    Display \"Enter the mass of the object in kilograms:\"\n",
        "    Input mass\n",
        "\n",
        "    Set weight = mass * 9.8\n",
        "\n",
        "    Display \"The weight of the object is: \", weight, \" Newtons\"\n",
        "\n",
        "    If weight > 1000 Then\n",
        "        Display \"The object is too heavy.\"\n",
        "    Else If weight < 10 Then\n",
        "        Display \"The object is too light.\"\n",
        "    End If\n",
        "End\n",
        "\n",
        "```"
      ],
      "metadata": {
        "id": "2-XgHuA3jc5l"
      }
    },
    {
      "cell_type": "markdown",
      "source": [
        "###CODIGO"
      ],
      "metadata": {
        "id": "QGz7VN7pjzZS"
      }
    },
    {
      "cell_type": "code",
      "source": [
        "mass = float(input(\"Enter the mass of the object in kilograms: \"))\n",
        "\n",
        "weight = mass * 9.8\n",
        "\n",
        "print(\"The weight of the object is:\", weight, \"Newtons\")\n",
        "\n",
        "if weight > 1000:\n",
        "    print(\"The object is too heavy.\")\n",
        "elif weight < 10:\n",
        "    print(\"The object is too light.\")"
      ],
      "metadata": {
        "colab": {
          "base_uri": "https://localhost:8080/"
        },
        "id": "XFUMIEHVjcRY",
        "outputId": "3d223d81-3601-4a40-e042-84088a54a8ac"
      },
      "execution_count": null,
      "outputs": [
        {
          "output_type": "stream",
          "name": "stdout",
          "text": [
            "Enter the mass of the object in kilograms: 500\n",
            "The weight of the object is: 4900.0 Newtons\n",
            "The object is too heavy.\n"
          ]
        }
      ]
    },
    {
      "cell_type": "markdown",
      "source": [
        "###4. Fechas Mágicas  \n",
        "La fecha 10 de junio de 1960 es especial porque cuando se escribe en el siguiente formato, el mes\n",
        "multiplicado por el día es igual al año: Diseña un programa que solicite al usuario ingresar un mes (en formato numérico), un día y un año de\n",
        "dos dígitos. El programa debe determinar si el mes multiplicado por el día es igual al año. Si es así, debe mostrar un mensaje diciendo que la fecha es mágica. De lo contrario, debe mostrar un mensaje\n",
        "indicando que la fecha no es mágica."
      ],
      "metadata": {
        "id": "F8sxTBFNj4Nw"
      }
    },
    {
      "cell_type": "markdown",
      "source": [
        "###PSEUDOCODIGO\n",
        "\n",
        "```\n",
        "Program fecha_magica\n",
        "Start\n",
        "    Declare Integer month, day, year\n",
        "\n",
        "    Display \"Enter the month (number of the month):\"\n",
        "    Input month\n",
        "    Display \"Enter the day:\"\n",
        "    Input day\n",
        "    Display \"Enter the year (two digits):\"\n",
        "    Input year\n",
        "\n",
        "    If (month * day) == year Then\n",
        "        Display \"The date is magical!\"\n",
        "    Else\n",
        "        Display \"The date is not magical.\"\n",
        "    End If\n",
        "End\n",
        "\n",
        "```"
      ],
      "metadata": {
        "id": "7a4E-5cdkJYB"
      }
    },
    {
      "cell_type": "markdown",
      "source": [
        "###CODIGO"
      ],
      "metadata": {
        "id": "I14z3bZmkXb7"
      }
    },
    {
      "cell_type": "code",
      "source": [
        "month = int(input(\"Enter the month (numeric format): \"))\n",
        "day = int(input(\"Enter the day: \"))\n",
        "year = int(input(\"Enter the year (two digits): \"))\n",
        "\n",
        "if month * day == year:\n",
        "    print(\"The date is magical!\")\n",
        "else:\n",
        "    print(\"The date is not magical.\")"
      ],
      "metadata": {
        "colab": {
          "base_uri": "https://localhost:8080/"
        },
        "id": "hZZZYKlLkWWn",
        "outputId": "8937a2ad-1e1a-4ab3-c20b-ff1d14ccc7fc"
      },
      "execution_count": null,
      "outputs": [
        {
          "output_type": "stream",
          "name": "stdout",
          "text": [
            "Enter the month (numeric format): 2\n",
            "Enter the day: 10\n",
            "Enter the year (two digits): 20\n",
            "The date is magical!\n"
          ]
        }
      ]
    },
    {
      "cell_type": "markdown",
      "source": [
        "##5. Mezclador de Colores  \n",
        "Los colores rojo, azul y amarillo son conocidos como colores primarios porque no se pueden obtener mezclando otros colores. Cuando mezclas dos colores primarios, obtienes un color secundario, como\n",
        "se muestra aquí:\n",
        "\n",
        "- Cuando mezclas rojo y azul, obtienes púrpura.\n",
        "\n",
        "- Cuando mezclas rojo y amarillo, obtienes naranja.\n",
        "\n",
        "- Cuando mezclas azul y amarillo, obtienes verde.\n",
        "\n",
        "\n",
        "Diseña un programa que solicite al usuario ingresar los nombres de dos colores primarios para\n",
        "mezclarlos. Si el usuario ingresa algo diferente a \"rojo\", \"azul\" o \"amarillo\", el programa debe mostrar\n",
        "un mensaje de error. De lo contrario, el programa debe mostrar el nombre del color secundario\n",
        "resultante.  "
      ],
      "metadata": {
        "id": "NVhzel9kkt2B"
      }
    },
    {
      "cell_type": "markdown",
      "source": [
        "###PSEUDOCODIGO\n",
        "```\n",
        "Program mezcla_colores\n",
        "Start\n",
        "    Declare String color1, color2, resultado\n",
        "\n",
        "    Display \"Enter the first primary color (red, blue, or yellow):\"\n",
        "    Input color1\n",
        "    Display \"Enter the second primary color (red, blue, or yellow):\"\n",
        "    Input color2\n",
        "\n",
        "    If (color1 == \"red\" AND color2 == \"blue\") OR (color1 == \"blue\" AND color2 == \"red\") Then\n",
        "        Set resultado = \"purple\"\n",
        "    Else If (color1 == \"red\" AND color2 == \"yellow\") OR (color1 == \"yellow\" AND color2 == \"red\") Then\n",
        "        Set resultado = \"orange\"\n",
        "    Else If (color1 == \"blue\" AND color2 == \"yellow\") OR (color1 == \"yellow\" AND color2 == \"blue\") Then\n",
        "        Set resultado = \"green\"\n",
        "    Else If (color1 == color2) Then\n",
        "        Display \"You must enter two different primary colors.\"\n",
        "        Stop\n",
        "    Else\n",
        "        Display \"Error: You must enter only primary colors (red, blue, or yellow).\"\n",
        "        Stop\n",
        "    End If\n",
        "\n",
        "    Display \"The resulting color is: \", resultado\n",
        "End\n",
        "\n",
        "```"
      ],
      "metadata": {
        "id": "Q_O9KFGZk1u8"
      }
    },
    {
      "cell_type": "markdown",
      "source": [
        "###CODIGO"
      ],
      "metadata": {
        "id": "AFf1b4suk78X"
      }
    },
    {
      "cell_type": "code",
      "source": [
        "color1 = input(\"Enter the first primary color (red, blue, or yellow): \").lower()\n",
        "color2 = input(\"Enter the second primary color (red, blue, or yellow): \").lower()\n",
        "\n",
        "if (color1 == \"red\" and color2 == \"blue\") or (color1 == \"blue\" and color2 == \"red\"):\n",
        "    resultado = \"purple\"\n",
        "elif (color1 == \"red\" and color2 == \"yellow\") or (color1 == \"yellow\" and color2 == \"red\"):\n",
        "    resultado = \"orange\"\n",
        "elif (color1 == \"blue\" and color2 == \"yellow\") or (color1 == \"yellow\" and color2 == \"blue\"):\n",
        "    resultado = \"green\"\n",
        "elif color1 == color2:\n",
        "    print(\"You must enter two different primary colors.\")\n",
        "else:\n",
        "    print(\"Error: You must enter only primary colors (red, blue, or yellow).\")\n",
        "    exit()\n",
        "\n",
        "print(\"The resulting color is:\", resultado)"
      ],
      "metadata": {
        "colab": {
          "base_uri": "https://localhost:8080/"
        },
        "id": "mL4tgLRak9xg",
        "outputId": "d30d9e92-5cf1-4ed7-fcb7-630c114b6afc"
      },
      "execution_count": null,
      "outputs": [
        {
          "output_type": "stream",
          "name": "stdout",
          "text": [
            "Enter the first primary color (red, blue, or yellow): blue\n",
            "Enter the second primary color (red, blue, or yellow): red\n",
            "The resulting color is: purple\n"
          ]
        }
      ]
    },
    {
      "cell_type": "markdown",
      "source": [
        "##6. Puntos del Club de Lectura  \n",
        "Serendipity Booksellers tiene un club de lectura que otorga puntos a sus clientes según la cantidad de libros comprados cada mes. Los puntos se otorgan de la siguiente manera:\n",
        "\n",
        "- Si un cliente compra 0 libros, gana 0 puntos.\n",
        "\n",
        "- Si un cliente compra 1 libro, gana 5 puntos.\n",
        "\n",
        "- Si un cliente compra 2 libros, gana 15 puntos.\n",
        "\n",
        "- Si un cliente compra 3 libros, gana 30 puntos.\n",
        "\n",
        "- Si un cliente compra 4 o más libros, gana 60 puntos.\n",
        "\n",
        "\n",
        "Diseña un programa que solicite al usuario ingresar la cantidad de libros que ha comprado este mes y\n",
        "muestre el número de puntos otorgados"
      ],
      "metadata": {
        "id": "ogqVqHsDllBT"
      }
    },
    {
      "cell_type": "markdown",
      "source": [
        "###PSEUDOCODIGO\n",
        "\n",
        "```\n",
        "Program puntos_libros\n",
        "Start\n",
        "    Declare Integer libros\n",
        "\n",
        "    Display \"Cuantos Libros Compraste este mes:\"\n",
        "    Input libros\n",
        "\n",
        "    If libros == 0 Then\n",
        "        Display \"No Compraste ningun Libro\"\n",
        "    Else If libros == 1 Then\n",
        "        Display \"Ganaste 5 puntos\"\n",
        "    Else If libros == 2 Then\n",
        "        Display \"Ganaste 15 puntos\"\n",
        "    Else If libros == 3 Then\n",
        "        Display \"Ganaste 30 puntos\"\n",
        "    Else If libros >= 4 Then\n",
        "        Display \"Ganaste 60 puntos\"\n",
        "    End If\n",
        "End\n",
        "```\n"
      ],
      "metadata": {
        "id": "nX0rbm6jnNq9"
      }
    },
    {
      "cell_type": "markdown",
      "source": [
        "###CODIGO\n"
      ],
      "metadata": {
        "id": "8hgcswD4nZ1K"
      }
    },
    {
      "cell_type": "code",
      "source": [
        "libro = int(input(\"Cuantos Libros Compraste este mes: \"))\n",
        "if libro == 0:\n",
        "  print(\"No Compraste ningun Libro\")\n",
        "elif libro == 1:\n",
        "  print(\"Ganaste 5 puntos\")\n",
        "elif libro == 2:\n",
        "  print(\"Ganaste 15 puntos\")\n",
        "elif libro == 3:\n",
        "  print(\"Ganaste 30 puntos\")\n",
        "elif libro >= 4:\n",
        "  print(\"Ganaste 60 puntos\")"
      ],
      "metadata": {
        "colab": {
          "base_uri": "https://localhost:8080/"
        },
        "id": "YDsEgbQ1nqZ5",
        "outputId": "8e31ad3f-e014-4161-c0e4-d5ad158a4257"
      },
      "execution_count": null,
      "outputs": [
        {
          "output_type": "stream",
          "name": "stdout",
          "text": [
            "Cuantos Libros Compraste este mes: 0\n",
            "No Compraste ningun Libro\n"
          ]
        }
      ]
    },
    {
      "cell_type": "markdown",
      "source": [
        "##7. Ventas de Software  \n",
        "Una compañía de software vende un paquete que se vende al por menor por $99. Se otorgan\n",
        "descuentos por cantidad según la siguiente tabla:\n",
        "\n",
        "- 10–19 unidades: 20% de descuento\n",
        "- 20–49 unidades: 30% de descuento\n",
        "- 50–99 unidades: 40% de descuento\n",
        "- 100 o más unidades: 50% de descuento\n",
        "\n",
        "Diseña un programa que solicite al usuario ingresar la cantidad de paquetes comprados. El programa\n",
        "debe mostrar el monto del descuento (si lo hay) y el monto total de la compra después del descuento.\n"
      ],
      "metadata": {
        "id": "denqJs8cnwlq"
      }
    },
    {
      "cell_type": "markdown",
      "source": [
        "###PSEUDOCODIGO\n",
        "```\n",
        "Program calcular_descuento\n",
        "Start\n",
        "    Declare Integer paquete\n",
        "    Declare Real valor, descue, total, des\n",
        "\n",
        "    Display \"Ingrese el numero de paquetes comprados:\"\n",
        "    Input paquete\n",
        "\n",
        "    If paquete <= 9 Then\n",
        "        Display \"No hay descuento\"\n",
        "        Set des = 0\n",
        "    Else If paquete >= 10 AND paquete <= 19 Then\n",
        "        Display \"Hay un descuento del 20%\"\n",
        "        Set des = 0.2\n",
        "    Else If paquete >= 20 AND paquete <= 49 Then\n",
        "        Display \"Hay un descuento del 30%\"\n",
        "        Set des = 0.3\n",
        "    Else If paquete >= 50 AND paquete <= 99 Then\n",
        "        Display \"Hay un descuento del 40%\"\n",
        "        Set des = 0.4\n",
        "    Else If paquete >= 100 Then\n",
        "        Display \"Hay un descuento del 50%\"\n",
        "        Set des = 0.5\n",
        "    End If\n",
        "\n",
        "    Set valor = paquete * 99\n",
        "    Set descue = valor * des\n",
        "    Set total = valor - descue\n",
        "\n",
        "    Display \"El valor a pagar es: \", total\n",
        "End\n",
        "```"
      ],
      "metadata": {
        "id": "ZoSyHIEZonZF"
      }
    },
    {
      "cell_type": "markdown",
      "source": [
        "###CODIGO\n"
      ],
      "metadata": {
        "id": "TimDCi58rbM1"
      }
    },
    {
      "cell_type": "code",
      "source": [
        "paquete = int(input(\"Ingrese el numero de paquetes comprados: \"))\n",
        "if paquete <= 9:\n",
        "  print(\"No hay descuento\")\n",
        "  des = 0\n",
        "elif paquete >= 10 and paquete <= 19:\n",
        "  print(\"Hay un descuento del 20%\")\n",
        "  des = 0.2\n",
        "elif paquete >= 20 and paquete <= 49:\n",
        "  print(\"Hay un descuento del 30%\")\n",
        "  des = 0.3\n",
        "elif paquete >= 50 and paquete <= 99:\n",
        "  print(\"Hay un descuento del 40%\")\n",
        "  des = 0.4\n",
        "elif paquete >= 100:\n",
        "  print(\"Hay un descuento del 50%\")\n",
        "  des = 0.5\n",
        "\n",
        "valor = paquete * 99\n",
        "descue = valor * des\n",
        "total = valor - descue\n",
        "print(\"El valor a pagar es: \", total)"
      ],
      "metadata": {
        "id": "PDtqyE9MrZIV"
      },
      "execution_count": null,
      "outputs": []
    },
    {
      "cell_type": "markdown",
      "source": [
        "##9. Cargos por Envío  \n",
        "La Compañía de Envíos Fast Freight cobra las siguientes tarifas:\n",
        "\n",
        "- Peso del paquete: 2 libras o menos, tarifa: $1.10 por libra\n",
        "\n",
        "\n",
        "- Peso del paquete: Más de 2 libras, pero no más de 6 libras, tarifa: $2.20 por libra  \n",
        "\n",
        "\n",
        "- Peso del paquete: Más de 6 libras, pero no más de 10 libras, tarifa: $3.70 por libra\n",
        "\n",
        "\n",
        "- Peso del paquete: Más de 10 libras, tarifa: $3.80 por libra\n",
        "\n",
        "\n",
        "Diseña un programa que solicite al usuario ingresar el peso de un paquete y luego muestre los cargos\n",
        "por envío."
      ],
      "metadata": {
        "id": "GYSnHNt1rgF0"
      }
    },
    {
      "cell_type": "markdown",
      "source": [
        "###PSEUDOCODIGO\n",
        "```\n",
        "Program calcular_tarifa_envio\n",
        "Start\n",
        "    Declare Real peso, tarifa\n",
        "\n",
        "    Display \"Ingresar el peso del paquete en libras:\"\n",
        "    Input peso\n",
        "\n",
        "    If peso <= 2 Then\n",
        "        Set tarifa = 1.10 * peso\n",
        "    Else If peso > 2 AND peso <= 6 Then\n",
        "        Set tarifa = 2.20 * peso\n",
        "    Else If peso > 6 AND peso <= 10 Then\n",
        "        Set tarifa = 3.70 * peso\n",
        "    Else If peso > 10 Then\n",
        "        Set tarifa = 3.80 * peso\n",
        "    End If\n",
        "\n",
        "    Display \"Los cargos de costo de envio son de \", tarifa, \" dolares\"\n",
        "End\n",
        "\n",
        "```"
      ],
      "metadata": {
        "id": "7BvIoPqisFF9"
      }
    },
    {
      "cell_type": "markdown",
      "source": [
        "###CODIGO"
      ],
      "metadata": {
        "id": "EiMJuG7gsg3m"
      }
    },
    {
      "cell_type": "code",
      "source": [
        "peso = float(input(\"Ingresar el peso del paquete en libras: \"))\n",
        "if peso <= 2:\n",
        "  tarifa = 1.10 * peso\n",
        "elif peso > 2 and peso <= 6:\n",
        "  tarifa = 2.20 * peso\n",
        "elif peso > 6 and peso <= 10:\n",
        "  tarifa = 3.70 * peso\n",
        "elif peso > 10:\n",
        "  tarifa = 3.80 * peso\n",
        "print(\"Los cargos de costo de envio son de \",tarifa,\"dolares\")"
      ],
      "metadata": {
        "id": "-HunTncdr7iT"
      },
      "execution_count": null,
      "outputs": []
    },
    {
      "cell_type": "markdown",
      "source": [
        "##10. Mejora del Programa de Índice de Masa Corporal  \n",
        "El IMC de una persona se calcula con la siguiente fórmula\n",
        " En la fórmula, el peso (weight) se mide en libras y la altura (height) en pulgadas.  \n",
        "Mejora el programa para que muestre un mensaje indicando si la persona tiene un peso óptimo, si\n",
        "está por debajo del peso o si tiene sobrepeso. Se considera que el peso de una persona sedentaria es óptimo si su IMC está entre 18.5 y 25. Si el IMC es menor de 18.5, se considera que la persona está\n",
        "por debajo del peso. Si el valor del IMC es mayor de 25, se considera que la persona tiene sobrepeso."
      ],
      "metadata": {
        "id": "JBXYrIh6soWn"
      }
    },
    {
      "cell_type": "markdown",
      "source": [
        "###PSEUDOCODIGO\n",
        "```\n",
        "Program calcular_IMC\n",
        "Start\n",
        "    Declare Real peso, altura, imc\n",
        "\n",
        "    Display \"Ingresar peso en libras:\"\n",
        "    Input peso\n",
        "    Display \"Ingresar altura en pulgadas:\"\n",
        "    Input altura\n",
        "\n",
        "    Set imc = peso * 703 / (altura ^ 2)\n",
        "\n",
        "    If imc < 18.5 Then\n",
        "        Display \"El peso esta por debajo del optimo, Tu IMC es \", imc\n",
        "    Else If imc >= 18.5 AND imc <= 25 Then\n",
        "        Display \"El peso esta optimo, Tu IMC es \", imc\n",
        "    Else If imc > 25 Then\n",
        "        Display \"El peso es mayor al optimo, Tu IMC es \", imc\n",
        "    End If\n",
        "End\n",
        "```"
      ],
      "metadata": {
        "id": "MYiLJqPHtuW4"
      }
    },
    {
      "cell_type": "markdown",
      "source": [
        "###CODIGO"
      ],
      "metadata": {
        "id": "0Ar0ldILuLv_"
      }
    },
    {
      "cell_type": "code",
      "source": [
        "peso = float(input(\"Ingresar peso en libras: \"))\n",
        "altura = float(input(\"Ingresar altura en pulgadas: \"))\n",
        "imc = peso * 703 / altura ** 2\n",
        "if imc < 18.5:\n",
        "  print(\"El peso esta por debajo del optimo, Tu IMC es\", imc)\n",
        "elif imc >= 18.5 and imc <= 25:\n",
        "  print(\"El peso esta optimo, Tu IMC es\", imc)\n",
        "elif imc > 25:\n",
        "  print(\"El peso es mayor al optimo, Tu IMC es\", imc)"
      ],
      "metadata": {
        "id": "c3XQI23GuFXL"
      },
      "execution_count": null,
      "outputs": []
    },
    {
      "cell_type": "markdown",
      "source": [
        "##11. Calculadora de Tiempo  \n",
        "Diseña un programa que solicite al usuario ingresar una cantidad de segundos y funcione de la\n",
        "siguiente manera:\n",
        "\n",
        "- Hay 60 segundos en un minuto. Si la cantidad de segundos ingresada por el usuario es mayor o igual a 60, el programa debe mostrar la cantidad de minutos en esa cantidad de segundos.\n",
        "- Hay 3600 segundos en una hora. Si la cantidad de segundos ingresada por el usuario es mayor o igual a 3600, el programa debe mostrar la cantidad de horas en esa cantidad de segundos.\n",
        "-Hay 86400 segundos en un día. Si la cantidad de segundos ingresada por el usuario es mayor o igual a 86400, el programa debe mostrar la cantidad de días en esa cantidad de segundos.\n"
      ],
      "metadata": {
        "id": "b3uBFHOgvt3n"
      }
    },
    {
      "cell_type": "markdown",
      "source": [
        "###PSEUDOCODIGO\n",
        "```Program convertir_tiempo\n",
        "Start\n",
        "    Declare Integer seg\n",
        "    Declare Real min, horas, dias\n",
        "\n",
        "    Display \"Ingresar una cantidad de segundos:\"\n",
        "    Input seg\n",
        "\n",
        "    Set min = seg / 60\n",
        "    Set horas = seg / 3600\n",
        "    Set dias = seg / 86400\n",
        "\n",
        "    If seg >= 60 AND seg < 3600 Then\n",
        "        Display \"Hay \", min, \" minutos en \", seg, \" segundos\"\n",
        "    Else If seg >= 3600 AND seg < 86400 Then\n",
        "        Display \"Hay \", horas, \" horas en \", seg, \" segundos\"\n",
        "    Else If seg >= 86400 Then\n",
        "        Display \"Hay \", dias, \" días en \", seg, \" segundos\"\n",
        "    Else\n",
        "        Display \"La cantidad es \", seg, \" segundos\"\n",
        "    End If\n",
        "End\n",
        "```\n"
      ],
      "metadata": {
        "id": "z1gpi77iwhwz"
      }
    },
    {
      "cell_type": "markdown",
      "source": [
        "###CODIGO"
      ],
      "metadata": {
        "id": "0aiJ77jCwzic"
      }
    },
    {
      "cell_type": "code",
      "source": [
        "seg = int(input(\"Ingresar una cantidad de segundos: \"))\n",
        "min = seg / 60\n",
        "horas = seg / 3600\n",
        "dias = seg / 86400\n",
        "if seg >= 60 and seg < 3600:\n",
        "  print(\"Hay\", min, \"minutos en\",seg,\"segundos\")\n",
        "elif seg >= 3600 and seg < 86400:\n",
        "  print(\"Hay\", horas, \"horas en\",seg,\"segundos\")\n",
        "elif seg >= 86400:\n",
        "  print(\"Hay\", dias, \"dias en\",seg,\"segundos\")\n",
        "else:\n",
        "  print(\"La cantidad es\", seg, \"segundos\")"
      ],
      "metadata": {
        "id": "nMdHTk4Pw2at"
      },
      "execution_count": null,
      "outputs": []
    },
    {
      "cell_type": "markdown",
      "source": [
        "##12. Cálculo de la Factura del Servicio de Agua\n",
        "Diseña un programa que calcule el valor total a pagar en la factura de agua teniendo en cuenta que\n",
        "este depende del consumo en metros cúbicos (m³) y el estrato socioeconómico del usuario.\n",
        "El consumo se clasifica en tres bloques:\n",
        "\n",
        "- Consumo Básico: los primeros 11 m³ que se cobran a $1,000 COP por m³.\n",
        "\n",
        "- Consumo Complementario: de 12 a 20 m³ que se cobran a $2,000 COP por m³.\n",
        "\n",
        "- Consumo Suntuoso: todo consumo por encima de 20 m³ que se cobran a $3,000 COP por m³.\n",
        "\n",
        "Además, se aplican subsidios o contribuciones sobre el subtotal en función del estrato socioeconómico del usuario:\n",
        "\n",
        "- Estrato 1: subsidio del 50%.\n",
        "\n",
        "- Estrato 2: subsidio del 40%.\n",
        "\n",
        "- Estrato 3: subsidio del 15%.\n",
        "  \n",
        "- Estrato 4: sin subsidio ni contribución.\n",
        "   \n",
        "- Estratos 5 y 6: contribución del 20%."
      ],
      "metadata": {
        "id": "S54JLbGPw5hG"
      }
    },
    {
      "cell_type": "markdown",
      "source": [
        "##PSEUDOCODIGO\n",
        "\n",
        "```\n",
        "PROGRAM METROS_CUBICOS\n",
        "Start  \n",
        "    Declare Integer consumo, estrato  \n",
        "    Declare Float conm, subsidio, cons, descuento, total  \n",
        "\n",
        "    Display \"Ingresar el consumo en metros cúbicos: \"  \n",
        "    Set consumo = Input()  \n",
        "    Display \"Ingresar el estrato: \"  \n",
        "    Set estrato = Input()  \n",
        "\n",
        "    If consumo <= 11 Then  \n",
        "        Set conm = 1000  \n",
        "    Else If consumo >= 12 And consumo <= 20 Then  \n",
        "        Set conm = 2000  \n",
        "    Else  \n",
        "        Set conm = 3000  \n",
        "    End If  \n",
        "\n",
        "    If estrato == 1 Then  \n",
        "        Set subsidio = 0.5  \n",
        "    Else If estrato == 2 Then  \n",
        "        Set subsidio = 0.4  \n",
        "    Else If estrato == 3 Then  \n",
        "        Set subsidio = 0.15  \n",
        "    Else If estrato == 4 Then  \n",
        "        Set subsidio = 0  \n",
        "    Else If estrato == 5 Or estrato == 6 Then  \n",
        "        Set subsidio = 0.20  \n",
        "    Else  \n",
        "        Display \"Estrato no válido\"  \n",
        "        Stop  \n",
        "    End If  \n",
        "\n",
        "    Set cons = consumo * conm  \n",
        "    Set descuento = cons * subsidio  \n",
        "\n",
        "    If estrato >= 1 And estrato <= 4 Then  \n",
        "        Set total = cons - descuento  \n",
        "        Display \"El total a pagar es \", total  \n",
        "    Else If estrato == 5 Or estrato == 6 Then  \n",
        "        Set total = cons + descuento  \n",
        "        Display \"El total a pagar es \", total  \n",
        "    Else  \n",
        "        Display \"No se puede obtener el resultado\"  \n",
        "    End If  \n",
        "End\n",
        "```"
      ],
      "metadata": {
        "id": "r5uEeT6YxFjb"
      }
    },
    {
      "cell_type": "markdown",
      "source": [
        "##CODIGO"
      ],
      "metadata": {
        "id": "V4Ccz0DRxhSM"
      }
    },
    {
      "cell_type": "code",
      "source": [
        "consumo = int(input(\"Ingresar el consumo en metros cubicos: \"))\n",
        "estrato = int(input(\"Ingresar el estrato: \"))\n",
        "\n",
        "if consumo <= 11:\n",
        "  conm = 1000\n",
        "elif consumo >= 12 and consumo <= 20:\n",
        "  conm = 2000\n",
        "elif consumo >20:\n",
        "  conm = 3000\n",
        "\n",
        "\n",
        "if estrato == 1:\n",
        "  subsidio = 0.5\n",
        "elif estrato == 2:\n",
        "  subsidio = 0.4\n",
        "elif estrato == 3:\n",
        "  subsidio = 0.15\n",
        "elif estrato == 4:\n",
        "  subsidio = 0\n",
        "elif estrato == 5 and estrato == 6:\n",
        "  subsidio = 0.20\n",
        "else:\n",
        "  print(\"Estrato no Valido\")\n",
        "\n",
        "cons = consumo * conm\n",
        "descuento = cons * subsidio\n",
        "\n",
        "if estrato >= 1 and estrato <= 4:\n",
        "  total = cons - descuento\n",
        "  print(\"El total a pagar es\",total)\n",
        "elif estrato == 5 and estrato == 6:\n",
        "  total = cons + descuento\n",
        "  print(\"El total a pagar es\",total)\n",
        "else:\n",
        "  print(\"No se puede obtener el resultado\")"
      ],
      "metadata": {
        "id": "9iKgy4sMxjID"
      },
      "execution_count": null,
      "outputs": []
    },
    {
      "cell_type": "markdown",
      "source": [
        "\n",
        "##13. Cálculo del Costo de Envío para una Empresa de Mensajería\n",
        "Diseña un programa que calcule el costo total del envío de paquetes dependiendo del peso de los paquetes y la distancia recorrida.\n",
        " Las tarifas son las siguientes:\n",
        " - Paquetes de hasta 5 kg: $1,500 COP por kilómetro.\n",
        "\n",
        " - Paquetes de 6 a 20 kg: $2,500 COP por kilómetro.\n",
        "\n",
        " - Paquetes mayores a 20 kg: $3,500 COP por kilómetro.\n",
        "\n",
        "Si el envío es a una zona fuera de la ciudad, se aplica un recargo del 15% sobre el costo total del\n",
        "envío."
      ],
      "metadata": {
        "id": "n9qncK3tF3g4"
      }
    },
    {
      "cell_type": "markdown",
      "source": [
        "###PSEUDOCODIGO\n",
        "\n",
        "```\n",
        "Program costo_de_envio\n",
        "Start  \n",
        "    Declare Float peso, distancia, km, recorrido, recargo, total  \n",
        "    Declare Integer fuera  \n",
        "\n",
        "    Display \"Ingresar el peso del paquete en Kilogramos: \"  \n",
        "    Set peso = Input()  \n",
        "    Display \"Ingresar la distancia recorrida del paquete en Kilómetros: \"  \n",
        "    Set distancia = Input()  \n",
        "    Display \"Ingresar 1 si es dentro de la ciudad y 0 si es fuera de la ciudad: \"  \n",
        "    Set fuera = Input()  \n",
        "\n",
        "    If peso <= 5 Then  \n",
        "        Set km = 1500  \n",
        "    Else If peso >= 6 And peso <= 20 Then  \n",
        "        Set km = 2500  \n",
        "    Else  \n",
        "        Set km = 3500  \n",
        "    End If  \n",
        "\n",
        "    Set recorrido = km * distancia  \n",
        "\n",
        "    If fuera == 1 Then  \n",
        "        Set recargo = 0  \n",
        "        Set total = recorrido + recargo  \n",
        "        Display \"El valor total del envío es \", total, \" COP\"  \n",
        "    Else If fuera == 0 Then  \n",
        "        Set recargo = 0.15 * recorrido  \n",
        "        Set total = recorrido + recargo  \n",
        "        Display \"El valor total del envío es \", total, \" COP\"  \n",
        "    Else  \n",
        "        Display \"El número no está dentro de las opciones\"  \n",
        "    End If  \n",
        "End\n",
        "```"
      ],
      "metadata": {
        "id": "YP3BAv8VFVCX"
      }
    },
    {
      "cell_type": "markdown",
      "source": [
        "###CODIGO"
      ],
      "metadata": {
        "id": "8cvQYokiGH86"
      }
    },
    {
      "cell_type": "code",
      "source": [
        "\n",
        "peso = float(input(\"Ingresar el peso del paquete en Kilogramos: \"))\n",
        "distancia = float(input(\"Ingresar la distancia recorrida del paquete en Kilometros: \"))\n",
        "fuera = int(input(\"Ingresar 1 si es dentro de la ciudad y 0 si es fuera de la ciudad: \"))\n",
        "\n",
        "if peso <= 5:\n",
        "  km = 1500\n",
        "elif peso >= 6 and peso <= 20:\n",
        "  km = 2500\n",
        "elif peso > 20:\n",
        "  km = 3500\n",
        "\n",
        "recorrido = km * distancia\n",
        "\n",
        "if fuera == 1:\n",
        "  recargo = 0\n",
        "  total = recorrido + recargo\n",
        "  print(\"El valor total del envio es \",total,\"COP\")\n",
        "elif fuera == 0:\n",
        "  recargo = 0.15 * recorrido\n",
        "  total = recorrido + recargo\n",
        "  print(\"El valor total del envio es \",total,\"COP\")\n",
        "else:\n",
        "  print(\"El numero no esta dentro de las opciones\")"
      ],
      "metadata": {
        "colab": {
          "base_uri": "https://localhost:8080/"
        },
        "id": "D2-4TO8TGHpO",
        "outputId": "61957b9b-ad62-44cc-8bf0-b91f84e02fbf"
      },
      "execution_count": null,
      "outputs": [
        {
          "output_type": "stream",
          "name": "stdout",
          "text": [
            "Ingresar el peso del paquete en Kilogramos: 15\n",
            "Ingresar la distancia recorrida del paquete en Kilometros: 200\n",
            "Ingresar 1 si es dentro de la ciudad y 0 si es fuera de la ciudad: 0\n",
            "El valor total del envio es  575000.0 COP\n"
          ]
        }
      ]
    }
  ]
}