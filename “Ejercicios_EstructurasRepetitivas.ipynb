{
  "nbformat": 4,
  "nbformat_minor": 0,
  "metadata": {
    "colab": {
      "provenance": [],
      "include_colab_link": true
    },
    "kernelspec": {
      "name": "python3",
      "display_name": "Python 3"
    },
    "language_info": {
      "name": "python"
    }
  },
  "cells": [
    {
      "cell_type": "markdown",
      "metadata": {
        "id": "view-in-github",
        "colab_type": "text"
      },
      "source": [
        "<a href=\"https://colab.research.google.com/github/JGesp/FundProg202510/blob/main/%E2%80%9CEjercicios_EstructurasRepetitivas.ipynb\" target=\"_parent\"><img src=\"https://colab.research.google.com/assets/colab-badge.svg\" alt=\"Open In Colab\"/></a>"
      ]
    },
    {
      "cell_type": "markdown",
      "source": [
        "#ESTRUCTURAS REPETITIVAS\n",
        "Fecha: 4/04/25<br>\n",
        "- Nombre: Jose Tomas Velasquez Perez\n",
        "- ID:000565025\n",
        "- Correo: joset.velasquez@upb.edu.co\n",
        "\n",
        "\n",
        "\n",
        "- Nombre: Santiago Villarreal Mendivil\n",
        "- ID: 000577548\n",
        "- Correo:santiago.villarreal@upb.edu.co\n",
        "\n",
        "\n",
        "\n",
        "- Nombre: Jesus Gabriel Espitia Portillo\n",
        "- ID:000574185\n",
        "- Correo: jesus.espitia@upb.edu.co\n",
        "\n",
        "\n",
        "\n",
        "- Nombre:Samuel Andres Oyola Giraldo\n",
        "- ID: 000578808\n",
        "- Correo:samuel.oyola@upb.edu.co"
      ],
      "metadata": {
        "id": "veaEnklrnSyK"
      }
    },
    {
      "cell_type": "markdown",
      "source": [
        "##1. Coleccionista de Insectos\n",
        "Un coleccionista de insectos recoge insectos cada día durante siete días. Diseña un programa que\n",
        "mantenga un total acumulado del número de insectos recogidos durante esos siete días. El ciclo debe\n",
        "pedir el número de insectos recolectados cada día, y al finalizar, el programa debe mostrar el total de\n",
        "insectos recolectados."
      ],
      "metadata": {
        "id": "EZF7n1cpnYhv"
      }
    },
    {
      "cell_type": "markdown",
      "source": [
        "###PSEUDOCODIGO\n",
        "\n",
        "```\n",
        "PROGRAM TOTAL_INSECTS\n",
        "START  \n",
        "  DECLARE INTEGER total_insects = 0  \n",
        "  DECLARE INTEGER insects  \n",
        "  DECLARE INTEGER day  \n",
        "\n",
        "  FOR day = 1 TO 7  \n",
        "    DISPLAY \"Ingrese la cantidad de insectos recolectados en el día \", day  \n",
        "    INPUT insects  \n",
        "    SET total_insects = total_insects + insects  \n",
        "  END FOR  \n",
        "\n",
        "  DISPLAY \"El total de insectos recolectados en la semana es: \", total_insects  \n",
        "END  \n",
        "  \n",
        "```\n"
      ],
      "metadata": {
        "id": "OXzG_5Owntln"
      }
    },
    {
      "cell_type": "markdown",
      "source": [
        "###CODIGO\n"
      ],
      "metadata": {
        "id": "0a1fbKQnny4V"
      }
    },
    {
      "cell_type": "code",
      "execution_count": null,
      "metadata": {
        "id": "YJlWQ4aUnGPQ",
        "colab": {
          "base_uri": "https://localhost:8080/"
        },
        "outputId": "b3b7aa90-320f-41df-c985-134d86d3e22e"
      },
      "outputs": [
        {
          "output_type": "stream",
          "name": "stdout",
          "text": [
            "Ingrese la cantidad de insectos recolectados en el día 1: 4\n",
            "Ingrese la cantidad de insectos recolectados en el día 2: 6\n",
            "Ingrese la cantidad de insectos recolectados en el día 3: 8\n",
            "Ingrese la cantidad de insectos recolectados en el día 4: 11\n",
            "Ingrese la cantidad de insectos recolectados en el día 5: 50\n",
            "Ingrese la cantidad de insectos recolectados en el día 6: 4\n",
            "Ingrese la cantidad de insectos recolectados en el día 7: 3\n",
            "El total de insectos recolectados en la semana es: 86\n"
          ]
        }
      ],
      "source": [
        "total_insects = 0\n",
        "\n",
        "for day in range(1, 8):\n",
        "    insects = int(input(f\"Ingrese la cantidad de insectos recolectados en el día {day}: \"))\n",
        "    total_insects += insects\n",
        "\n",
        "print(\"El total de insectos recolectados en la semana es:\", total_insects)"
      ]
    },
    {
      "cell_type": "markdown",
      "source": [
        "##2. Calorías Quemadas  \n",
        "Corriendo en una cinta específica quemas 3.9 calorías por minuto. Diseña un programa que use un\n",
        "ciclo para mostrar el número de calorías quemadas después de 10, 15, 20, 25 y 30 minutos."
      ],
      "metadata": {
        "id": "2fIby59yoA8z"
      }
    },
    {
      "cell_type": "markdown",
      "source": [
        "###PSEUDOCODIGO\n",
        "\n",
        "```\n",
        "START  \n",
        "  DECLARE REAL calories_per_minute = 3.9  \n",
        "  DECLARE REAL calories  \n",
        "  DECLARE INTEGER minutes  \n",
        "\n",
        "  FOR minutes IN {10, 15, 20, 25, 30}  \n",
        "    SET calories = minutes * calories_per_minute  \n",
        "    DISPLAY \"Calorías quemadas en\", minutes, \"minutos:\", calories  \n",
        "  END FOR  \n",
        "\n",
        "END  \n",
        "```\n"
      ],
      "metadata": {
        "id": "tPv431uEoA80"
      }
    },
    {
      "cell_type": "markdown",
      "source": [
        "###CODIGO\n"
      ],
      "metadata": {
        "id": "58Sy44t6oA81"
      }
    },
    {
      "cell_type": "code",
      "execution_count": null,
      "metadata": {
        "id": "2gW0JlNcoA81",
        "colab": {
          "base_uri": "https://localhost:8080/"
        },
        "outputId": "e20ee766-3302-4c4b-d0b8-8f1ea2e4c4f1"
      },
      "outputs": [
        {
          "output_type": "stream",
          "name": "stdout",
          "text": [
            "calorias quemadas en 10 minutos: 39.0\n",
            "calorias quemadas en 15 minutos: 58.5\n",
            "calorias quemadas en 20 minutos: 78.0\n",
            "calorias quemadas en 25 minutos: 97.5\n",
            "calorias quemadas en 30 minutos: 117.0\n"
          ]
        }
      ],
      "source": [
        "calories_per_minute = 3.9\n",
        "for minutes in [10, 15 , 20 , 25, 30]:\n",
        " calories = minutes * calories_per_minute\n",
        " print(f\"calorias quemadas en {minutes} minutos: {calories}\")"
      ]
    },
    {
      "cell_type": "markdown",
      "source": [
        "##3. Análisis de Presupuesto  \n",
        "Diseña un programa que pida al usuario ingresar la cantidad de dinero que ha presupuestado para un\n",
        "mes. Luego, en un ciclo, el programa debe pedirle al usuario que ingrese cada uno de sus gastos y\n",
        "mantener un total acumulado. Cuando el ciclo termine, el programa debe mostrar si el usuario se\n",
        "pasó o quedó por debajo de su presupuesto."
      ],
      "metadata": {
        "id": "6BLsQGKqoEHV"
      }
    },
    {
      "cell_type": "markdown",
      "source": [
        "###PSEUDOCODIGO\n",
        "\n",
        "```\n",
        "START  \n",
        "\n",
        "  DECLARE REAL presupuesto, gasto, total_gastos = 0  \n",
        "  DECLARE INTEGER num_gastos  \n",
        "\n",
        "  DISPLAY \"Ingrese el presupuesto para el mes\"  \n",
        "  INPUT presupuesto  \n",
        "\n",
        "  DISPLAY \"Ingrese el numero de gastos\"  \n",
        "  INPUT num_gastos  \n",
        "\n",
        "  FOR i = 1 TO num_gastos :\n",
        "      DISPLAY \"Ingrese el gasto \", i+1  \n",
        "      INPUT gasto  \n",
        "      total_gastos += gasto  \n",
        "  END FOR  \n",
        "\n",
        "  DISPLAY \"El total de gastos fue:\", total_gastos  \n",
        "\n",
        "  IF total_gastos > presupuesto THEN  \n",
        "      DISPLAY \"Se pasó del presupuesto\"\n",
        "  ELSE  \n",
        "      DISPLAY \"Quedó por debajo del presupuesto\"\n",
        "  END IF  \n",
        "\n",
        "END  \n",
        "\n",
        "\n",
        "```"
      ],
      "metadata": {
        "id": "ugUPY1O5oEHV"
      }
    },
    {
      "cell_type": "markdown",
      "source": [
        "###CODIGO\n"
      ],
      "metadata": {
        "id": "j25hu9KPoEHW"
      }
    },
    {
      "cell_type": "code",
      "execution_count": null,
      "metadata": {
        "id": "ccwiSqRjoEHW",
        "colab": {
          "base_uri": "https://localhost:8080/"
        },
        "outputId": "b5397fbe-f2c3-437b-b557-25be535283d0"
      },
      "outputs": [
        {
          "output_type": "stream",
          "name": "stdout",
          "text": [
            "Ingrese el presupuesto del mes: 80000\n",
            "Ingrese el número de gastos: 5\n",
            "Ingrese el gasto 1: 20000\n",
            "Ingrese el gasto 2: 30000\n",
            "Ingrese el gasto 3: 5000\n",
            "Ingrese el gasto 4: 7000\n",
            "Ingrese el gasto 5: 10000\n",
            "El total de gastos fue: 72000\n",
            "Quedó por debajo del presupuesto\n"
          ]
        }
      ],
      "source": [
        "total_gastos = 0\n",
        "presupuesto = int(input(\"Ingrese el presupuesto del mes: \"))\n",
        "num_gastos = int(input(\"Ingrese el número de gastos: \"))\n",
        "\n",
        "for i in range(num_gastos):\n",
        "    gasto = int(input(f\"Ingrese el gasto {i + 1}: \"))\n",
        "    total_gastos += gasto\n",
        "\n",
        "print(f\"El total de gastos fue: {total_gastos}\")\n",
        "\n",
        "if total_gastos > presupuesto:\n",
        "    print(\"Se pasó del presupuesto\")\n",
        "else:\n",
        "    print(\"Quedó por debajo del presupuesto\")"
      ]
    },
    {
      "cell_type": "markdown",
      "source": [
        "##4. Suma de Números  \n",
        "Diseña un programa con un ciclo que le pida al usuario ingresar una serie de números positivos. El\n",
        "usuario debe ingresar un número negativo para indicar que ha terminado de ingresar números.\n",
        "Después de que se hayan ingresado todos los números positivos, el programa debe mostrar la suma\n",
        "de todos ellos."
      ],
      "metadata": {
        "id": "pxq_UAZWoFw6"
      }
    },
    {
      "cell_type": "markdown",
      "source": [
        "###PSEUDOCODIGO\n",
        "\n",
        "```\n",
        "PROGRAM NUMBERS_SUM\n",
        "START  \n",
        "\n",
        "  DECLARE REAL suma = 0  \n",
        "  DECLARE REAL num  \n",
        "\n",
        "  DISPLAY \"Ingrese un número positivo (o un número negativo para terminar)\"  \n",
        "  INPUT num  \n",
        "\n",
        "  WHILE num >= 0 DO  \n",
        "      suma = suma + num  \n",
        "      DISPLAY \"Ingrese otro número positivo (o un número negativo para terminar)\"  \n",
        "      INPUT num  \n",
        "  END WHILE  \n",
        "\n",
        "  DISPLAY \"La suma de los números positivos ingresados es:\", suma  \n",
        "\n",
        "END  \n",
        "\n",
        "```"
      ],
      "metadata": {
        "id": "pc5fk9a-oFw6"
      }
    },
    {
      "cell_type": "markdown",
      "source": [
        "###CODIGO\n"
      ],
      "metadata": {
        "id": "ShIclPygoFw7"
      }
    },
    {
      "cell_type": "code",
      "source": [
        "suma = 0\n",
        "num = int( input(\"Ingrese un numero positivo (o un numero negativo para terminar): \"))\n",
        "while num >= 0 :\n",
        "    suma= suma + num\n",
        "    num=int( input(\"Ingrese un numero positivo (o un numero negativo para terminar): \"))\n",
        "print(\"La suma de los números positivos ingresados es:\", suma)"
      ],
      "metadata": {
        "id": "RXOjG1rJoheq",
        "colab": {
          "base_uri": "https://localhost:8080/"
        },
        "outputId": "8a968eba-7807-4804-84b8-26d341102605"
      },
      "execution_count": null,
      "outputs": [
        {
          "output_type": "stream",
          "name": "stdout",
          "text": [
            "Ingrese un numero positivo (o un numero negativo para terminar): 50\n",
            "Ingrese un numero positivo (o un numero negativo para terminar): 50\n",
            "Ingrese un numero positivo (o un numero negativo para terminar): -1\n",
            "La suma de los números positivos ingresados es: 100\n"
          ]
        }
      ]
    },
    {
      "cell_type": "markdown",
      "source": [
        "##5.Aumento de Matrícula  \n",
        "En una universidad, la matrícula para un estudiante de tiempo completo es de $6,000 por semestre.\n",
        "Se ha anunciado que la matrícula aumentará un 2% cada año durante los próximos cinco años. Diseña\n",
        "un programa con un ciclo que muestre la matrícula proyectada para los próximos cinco años."
      ],
      "metadata": {
        "id": "1CffmzD_oGR2"
      }
    },
    {
      "cell_type": "markdown",
      "source": [
        "###PSEUDOCODIGO\n",
        "\n",
        "```\n",
        "PROGRAM AUMENTO_DE_MATRICULA  \n",
        "START  \n",
        "  DECLARE REAL MATRICULA = 6000  \n",
        "  DECLARE INTEGER YEARS = 0  \n",
        "  DECLARE INTEGER TARGET = 5  \n",
        "  DECLARE REAL RATE = 0.02  \n",
        "  DECLARE REAL PROJECTED_TOTAL = MATRICULA  \n",
        "\n",
        "  WHILE YEARS < TARGET DO  \n",
        "      PROJECTED_TOTAL = PROJECTED_TOTAL * (1 + RATE)  \n",
        "      YEARS = YEARS + 1  \n",
        "  END WHILE  \n",
        "\n",
        "  DISPLAY \"El valor de la matrícula proyectado es:\", PROJECTED_TOTAL  \n",
        "\n",
        "END  \n",
        "\n",
        "```"
      ],
      "metadata": {
        "id": "xUezUwQboGR2"
      }
    },
    {
      "cell_type": "markdown",
      "source": [
        "###CODIGO\n"
      ],
      "metadata": {
        "id": "mahlq-K4oGR3"
      }
    },
    {
      "cell_type": "code",
      "execution_count": null,
      "metadata": {
        "id": "8FZet2wCoGR3",
        "colab": {
          "base_uri": "https://localhost:8080/"
        },
        "outputId": "c18baf0c-71e1-44f9-83ed-db7956bad185"
      },
      "outputs": [
        {
          "output_type": "stream",
          "name": "stdout",
          "text": [
            "El valor proyectado de la matrícula es: 6624.484819200001\n"
          ]
        }
      ],
      "source": [
        "matricula= 6000\n",
        "years= 0\n",
        "target= 5\n",
        "rate= 0.02\n",
        "projected_total = matricula\n",
        "while years < target:\n",
        "    projected_total = projected_total * (1 + rate)\n",
        "    years= years + 1\n",
        "print(f\"El valor proyectado de la matrícula es: {projected_total}\")"
      ]
    },
    {
      "cell_type": "markdown",
      "source": [
        "##6. Distancia Recorrida  \n",
        "La distancia que recorre un vehículo se puede calcular con la siguiente fórmula:\n",
        "- Distancia = Velocidad × Tiempo\n",
        "\n",
        "Por ejemplo, si un tren viaja a 40 millas por hora durante tres horas, la distancia recorrida es de 120\n",
        "millas.\n",
        " Diseña un programa que le pida al usuario la velocidad de un vehículo (en millas por hora) y cuántas horas ha viajado. Luego debe usar un ciclo para mostrar la distancia recorrida por cada hora de ese período.\n",
        "\n",
        "Ejemplo de salida:<br>\n",
        "- ¿Cuál es la velocidad del vehículo en mph? 40\n",
        "- ¿Cuántas horas ha viajado? 3\n",
        "```\n",
        "Hora | Distancia Recorrida\n",
        "1 | 40\n",
        "2 | 80\n",
        "3 | 120\n",
        "```"
      ],
      "metadata": {
        "id": "xI92rSdZoHTe"
      }
    },
    {
      "cell_type": "markdown",
      "source": [
        "###PSEUDOCODIGO\n",
        "\n",
        "```\n",
        "PROGRAM MILES_TRAVELED_BY_HOURS\n",
        "START\n",
        "\tDECLARE REAL velocidad, distancia\n",
        "\tDECLARE INTEGER horas\n",
        "\n",
        "\tDISPLAY \"Ingrese la velocidad del vehículo: \"\n",
        "\tINPUT velocidad\n",
        "\n",
        "\tDISPLAY \"Ingrese en horas la duración del viaje: \"\n",
        "\tINPUT horas\n",
        "\n",
        "\tDISPLAY (\" Hora | Distancia Recorrida \")\n",
        "\tDISPLAY (\" -------------------------- \")\n",
        "\tFOR hora IN RANGE(1, horas + 1):\n",
        "\t\tdistancia = velocidad * hora\n",
        "\t\tDISPLAY(f\"{hora}     | {distancia}\")\n",
        "\tEND FOR\n",
        "END\n",
        "\n",
        "```"
      ],
      "metadata": {
        "id": "EXEaL2SroHTf"
      }
    },
    {
      "cell_type": "markdown",
      "source": [
        "###CODIGO\n"
      ],
      "metadata": {
        "id": "JLBCoN22oHTf"
      }
    },
    {
      "cell_type": "code",
      "execution_count": null,
      "metadata": {
        "id": "30HyvsNJoHTg",
        "colab": {
          "base_uri": "https://localhost:8080/"
        },
        "outputId": "72f11437-6be6-4d42-fde9-d38a557c8461"
      },
      "outputs": [
        {
          "output_type": "stream",
          "name": "stdout",
          "text": [
            "¿Cuál es la velocidad del vehículo en mph? 60\n",
            "¿Cuántas horas ha viajado? 5\n",
            "Hora | Distancia Recorrida\n",
            "-------------------------\n",
            "1    | 60\n",
            "2    | 120\n",
            "3    | 180\n",
            "4    | 240\n",
            "5    | 300\n"
          ]
        }
      ],
      "source": [
        "\n",
        "velocidad = int(input(\"¿Cuál es la velocidad del vehículo en mph? \"))\n",
        "horas = int(input(\"¿Cuántas horas ha viajado? \"))\n",
        "\n",
        "print(\"Hora | Distancia Recorrida\")\n",
        "print(\"-------------------------\")\n",
        "\n",
        "for hora in range(1, horas + 1):\n",
        "    distancia = velocidad * hora\n",
        "    print(f\"{hora}    | {distancia}\")"
      ]
    },
    {
      "cell_type": "markdown",
      "source": [
        "##7. Promedio de Lluvias  \n",
        "Diseña un programa que use ciclos anidados para recolectar datos y calcular el promedio de lluvia\n",
        "durante un período de años. El programa debe primero preguntar cuántos años se quiere evaluar. El\n",
        "ciclo externo se repetirá una vez por cada año. El ciclo interno se repetirá 12 veces, una por cada mes.\n",
        "Cada iteración del ciclo interno debe pedir al usuario los centímetros de lluvia de ese mes. Al finalizar\n",
        "todas las iteraciones, el programa debe mostrar el número total de meses, el total de lluvia en\n",
        "centímetros y el promedio de lluvia por mes para todo el período."
      ],
      "metadata": {
        "id": "fdNbOv0VoHts"
      }
    },
    {
      "cell_type": "markdown",
      "source": [
        "###PSEUDOCODIGO\n",
        "\n",
        "```\n",
        "PROGRAM PROMEDIO_DE_LLUVIAS\n",
        "START  \n",
        "\n",
        "DECLARE INTEGER años  \n",
        "DECLARE REAL total_lluvia = 0  \n",
        "DECLARE INTEGER total_meses = 0  \n",
        "DECLARE STRING meses[12] = [\"enero\", \"febrero\", \"marzo\", \"abril\", \"mayo\", \"junio\",  \n",
        "                            \"julio\", \"agosto\", \"septiembre\", \"octubre\", \"noviembre\", \"diciembre\"]  \n",
        "\n",
        "DISPLAY \"¿Cuántos años quieres calcular?\"  \n",
        "INPUT años  \n",
        "\n",
        "FOR año FROM 1 TO años DO  \n",
        "    FOR mes IN meses DO  \n",
        "        DISPLAY \"¿Cuántos milímetros de lluvia cayeron en\", mes, \"del año\", año, \"?\"  \n",
        "        INPUT lluvia  \n",
        "        total_lluvia += lluvia  \n",
        "        total_meses += 1  \n",
        "    END FOR  \n",
        "END FOR  \n",
        "\n",
        "SET promedio = total_lluvia / total_meses  \n",
        "\n",
        "DISPLAY \"Total de meses:\", total_meses  \n",
        "DISPLAY \"Total de lluvia:\", total_lluvia, \"mm\"  \n",
        "DISPLAY \"Promedio mensual:\", promedio, \"mm\"  \n",
        "\n",
        "END  \n",
        "```"
      ],
      "metadata": {
        "id": "phOKZJNRoHtt"
      }
    },
    {
      "cell_type": "markdown",
      "source": [
        "###CODIGO\n"
      ],
      "metadata": {
        "id": "VozrxiBYoHtt"
      }
    },
    {
      "cell_type": "code",
      "execution_count": null,
      "metadata": {
        "id": "Dxhyq5groHtu"
      },
      "outputs": [],
      "source": [
        "meses = (\"enero\", \"febrero\", \"marzo\", \"abril\", \"mayo\", \"junio\",\n",
        "         \"julio\", \"agosto\", \"septiembre\", \"octubre\", \"noviembre\", \"diciembre\")\n",
        "\n",
        "años = int(input(\"¿Cuántos años quieres calcular? \"))\n",
        "\n",
        "total_lluvia = 0\n",
        "total_meses = 0\n",
        "\n",
        "for año in range(1, años + 1):\n",
        "    for mes in meses:\n",
        "        lluvia = float(input(f\"¿Cuántos milímetros de lluvia cayeron en {mes} del año {año}?: \"))\n",
        "        total_lluvia += lluvia\n",
        "        total_meses += 1\n",
        "\n",
        "2\n",
        "promedio = total_lluvia / total_meses\n",
        "\n",
        "print(\"Total de meses:\", total_meses)\n",
        "print(\"Total de lluvia:\", total_lluvia, \"mm\")\n",
        "print(\"Promedio mensual:\", promedio, \"mm\")"
      ]
    },
    {
      "cell_type": "markdown",
      "source": [
        "##8. Tabla de Celsius a Fahrenheit\n",
        "Diseña un programa que muestre una tabla de las temperaturas en grados Celsius del 0 al 20 y sus\n",
        "equivalentes en Fahrenheit. La fórmula para convertir una temperatura de Celsius a Fahrenheit es:\n",
        "\n",
        "- F = (9/5 * C) + 32\n",
        "\n",
        "donde F es la temperatura en Fahrenheit y C es la temperatura en Celsius.\n",
        "\n",
        "Tu programa debe usar un ciclo para mostrar la tabla."
      ],
      "metadata": {
        "id": "HzHJTeaVoIpW"
      }
    },
    {
      "cell_type": "markdown",
      "source": [
        "###PSEUDOCODIGO\n",
        "```\n",
        "PROGRAM CELCIUS_CONVERT\n",
        "START  \n",
        "\n",
        "DECLARE INTEGER celsius  \n",
        "DECLARE REAL fahrenheit  \n",
        "\n",
        "DISPLAY \"Tabla de temperaturas: Celsius a Fahrenheit\"  \n",
        "DISPLAY \"Celsius  |  Fahrenheit\"  \n",
        "\n",
        "FOR celsius FROM 0 TO 20 DO  \n",
        "    SET fahrenheit = (9/5 * celsius) + 32  \n",
        "    DISPLAY celsius, \"       |  \", fahrenheit  \n",
        "END FOR  \n",
        "\n",
        "END  \n",
        "```"
      ],
      "metadata": {
        "id": "p_J_yllsoIpX"
      }
    },
    {
      "cell_type": "markdown",
      "source": [
        "###CODIGO\n"
      ],
      "metadata": {
        "id": "bXFGPxcEoIpX"
      }
    },
    {
      "cell_type": "code",
      "execution_count": null,
      "metadata": {
        "id": "W9h1Y64boIpX"
      },
      "outputs": [],
      "source": [
        "print(\"Tabla de temperaturas: Celsius a Fahrenheit\")\n",
        "print(\"Celsius  |  Fahrenheit\")\n",
        "\n",
        "for celsius in range(21):\n",
        "    fahrenheit = (9/5 * celsius) + 32\n",
        "    print(f\"{celsius}       |  {fahrenheit:.2f}\")\n"
      ]
    },
    {
      "cell_type": "markdown",
      "source": [
        "## 9. Centavos por Pago\n",
        "Diseña un programa que calcule la cantidad de dinero que una persona ganaría durante un período de\n",
        "tiempo si su salario es de un centavo el primer día, dos centavos el segundo día, y se duplica cada día.\n",
        "El programa debe pedir al usuario el número de días. Muestra una tabla que muestre cuál fue el\n",
        "salario por cada día y luego muestra el pago total al final del período. El total debe mostrarse en\n",
        "dólares, no en número de centavos."
      ],
      "metadata": {
        "id": "riBFCE35oJn5"
      }
    },
    {
      "cell_type": "markdown",
      "source": [
        "###PSEUDOCODIGO\n",
        "\n",
        "```\n",
        "PROGRAM CENTAVOS_POR_PAGO\n",
        "Start\n",
        "\n",
        "Function calcular_salario(dias)  \n",
        "        Declare Float salario = 0.01  \n",
        "        Declare Float total = 0.0  \n",
        "\n",
        "For dia From 1 To dias Do  \n",
        "            Display dia, \"   $\", salario  \n",
        "            total = total + salario  \n",
        "            salario = salario * 2  \n",
        "        End For  \n",
        "\n",
        "Display \"Pago total después de \", dias, \" días: $\", total  \n",
        "    End Function  \n",
        "\n",
        "Declare Integer dias  \n",
        "    Display \"Ingrese el número de días: \"  \n",
        "    Input dias  \n",
        "    calcular_salario(dias)  \n",
        "End\n",
        "```"
      ],
      "metadata": {
        "id": "p_52lOqIoJn5"
      }
    },
    {
      "cell_type": "markdown",
      "source": [
        "###CODIGO\n"
      ],
      "metadata": {
        "id": "larFbjleoJn6"
      }
    },
    {
      "cell_type": "code",
      "execution_count": null,
      "metadata": {
        "id": "LhlBm1zloJn6"
      },
      "outputs": [],
      "source": [
        "def calcular_salario(dias):\n",
        "    salario = 0.01\n",
        "    total = 0.0\n",
        "\n",
        "    for dia in range(1, dias + 1):\n",
        "        print(dia, \"   $\", salario)\n",
        "        total = float(total + salario)\n",
        "        salario = salario * 2\n",
        "\n",
        "    print(\"Pago total después de\", dias, \"días: $\", total)\n",
        "\n",
        "\n",
        "dias = int(input(\"Ingrese el número de días: \"))\n",
        "calcular_salario(dias)"
      ]
    },
    {
      "cell_type": "markdown",
      "source": [
        "##10. Mayor y Menor  \n",
        "Diseña un programa con un ciclo que permita al usuario ingresar una serie de números. El usuario\n",
        "debe ingresar -99 para señalar el fin de la serie. Después de que se hayan ingresado todos los\n",
        "números, el programa debe mostrar el número más grande y el número más pequeño que se\n",
        "ingresaron."
      ],
      "metadata": {
        "id": "4W1NYCGBoKC0"
      }
    },
    {
      "cell_type": "markdown",
      "source": [
        "###PSEUDOCODIGO\n",
        "\n",
        "```\n",
        "PROGRAM MAYOR_Y_MENOR\n",
        "Start\n",
        "\n",
        "Declare Integer num, max_num, min_num  \n",
        "\n",
        "Display \"Ingresar un número (-99 para terminar): \"  \n",
        "    Input num  \n",
        "\n",
        "If num == -99 Then  \n",
        "        Display \"Se deben ingresar más números\"  \n",
        "    Else  \n",
        "        max_num = num  \n",
        "        min_num = num  \n",
        "\n",
        "While True Do  \n",
        "            Display \"Ingresar otro número (-99 para terminar): \"  \n",
        "            Input num  \n",
        "\n",
        "If num == -99 Then  \n",
        "                Break  \n",
        "            End If  \n",
        "\n",
        "If num > max_num Then  \n",
        "                max_num = num  \n",
        "            End If\n",
        "\n",
        "If num < min_num Then  \n",
        "                min_num = num  \n",
        "            End If  \n",
        "        End While  \n",
        "\n",
        "Display \"Número más grande ingresado: \", max_num  \n",
        "        Display \"Número más pequeño ingresado: \", min_num  \n",
        "    End If  \n",
        "End\n",
        "```"
      ],
      "metadata": {
        "id": "sznVN1jXoKC1"
      }
    },
    {
      "cell_type": "markdown",
      "source": [
        "###CODIGO\n"
      ],
      "metadata": {
        "id": "Wy9k4gukoKC2"
      }
    },
    {
      "cell_type": "code",
      "execution_count": null,
      "metadata": {
        "id": "X0GwR9t5oKC2"
      },
      "outputs": [],
      "source": [
        "num = int(input(\"Ingresar un numero (-99 para terminar): \"))\n",
        "if num == -99:\n",
        "  print(\"Se deben ingresar mas numeros\")\n",
        "else:\n",
        "  max_num = num\n",
        "  min_num = num\n",
        "\n",
        "while True:\n",
        "  num = int(input(\"Ingresar otro número (-99 para terminar): \"))\n",
        "  if num == -99:\n",
        "    break\n",
        "  if num > max_num:\n",
        "    max_num = num\n",
        "  if num < min_num:\n",
        "    min_num = num\n",
        "\n",
        "print(\"Número más grande ingresado:\", max_num)\n",
        "print(\"Número más pequeño ingresado:\", min_num)"
      ]
    },
    {
      "cell_type": "markdown",
      "source": [
        "##11. Primero y Último  \n",
        "Diseña un programa que pida al usuario una serie de nombres (en cualquier orden). Después de que\n",
        "se haya ingresado el último nombre, el programa debe mostrar el nombre que está primero\n",
        "alfabéticamente y el nombre que está último alfabéticamente. Por ejemplo, si el usuario ingresa los\n",
        "nombres Kristin, Joel, Adam, Beth, Zeb, y Chris, el programa debería mostrar Adam y Zeb."
      ],
      "metadata": {
        "id": "cvIKPd25oLOA"
      }
    },
    {
      "cell_type": "markdown",
      "source": [
        "###PSEUDOCODIGO\n",
        "\n",
        "```\n",
        "PROGRAM PRIMERO_Y_ULTIMO\n",
        "Program Nombres\n",
        "Start\n",
        "Declare string[] nombres\n",
        "Declare int num\n",
        "\n",
        "\n",
        "Display \"ingrese su numero de nombres\"\n",
        "input num\n",
        "\n",
        "Display \"Ingrese su lista de nombres\"\n",
        "input list_nombres\n",
        "\n",
        "list_nombres.sort()\n",
        "\n",
        "display(\"Su primer nombre en orden alfabetico es\",list_nombres[0])\n",
        "display(\"Su ultimo nombre en orden alfabetico es\",list_nombres[-1])\n",
        "\n",
        "End\n",
        "    \n",
        "```\n",
        "\n"
      ],
      "metadata": {
        "id": "8EeeINnQoLOB"
      }
    },
    {
      "cell_type": "markdown",
      "source": [
        "###CODIGO\n"
      ],
      "metadata": {
        "id": "BE9FDdYXoLOB"
      }
    },
    {
      "cell_type": "code",
      "execution_count": null,
      "metadata": {
        "id": "eoKpLk6GoLOB"
      },
      "outputs": [],
      "source": [
        "nombres = []\n",
        "\n",
        "while True:\n",
        "    nombre = input(\"Ingrese un nombre (o escriba 'fin' para terminar): \")\n",
        "    if nombre.lower() == 'fin':\n",
        "        break\n",
        "    nombres.append(nombre)\n",
        "\n",
        "if nombres:\n",
        "    print(\"El primer nombre alfabéticamente es:\", min(nombres))\n",
        "    print(\"El último nombre alfabéticamente es:\", max(nombres))\n",
        "else:\n",
        "    print(\"No se ingresaron nombres.\")"
      ]
    },
    {
      "cell_type": "markdown",
      "source": [
        "##12. Cálculo del Factorial de un Número\n",
        "En matemáticas, la notación 𝑛! representa el factorial de un número entero no negativo 𝑛. El factorial de n es el producto de todos los números enteros no negativos desde 1 hasta 𝑛.\n",
        "\n",
        "Por ejemplo:\n",
        "\n",
        "7! = 1 × 2 × 3 × 4 × 5 × 6 × 7 = 5040\n",
        "\n",
        "y\n",
        "\n",
        "4! = 1 × 2 × 3 × 4 = 24\n",
        "\n",
        "Diseña un programa que pida al usuario que ingrese un número entero no negativo y luego muestre\n",
        "el factorial de ese número."
      ],
      "metadata": {
        "id": "ZvytDE5_oLoD"
      }
    },
    {
      "cell_type": "markdown",
      "source": [
        "###PSEUDOCODIGO\n",
        "\n",
        "```\n",
        "PROGRAM calculofactorial\n",
        "Start  \n",
        "    Declare Integer num  \n",
        "    Declare Integer factorial ← 1  \n",
        "\n",
        "Display \"Ingrese un número entero no negativo: \"  \n",
        "    Input num  \n",
        "\n",
        "If num < 0 Then  \n",
        "        Display \"El número debe ser no negativo.\"  \n",
        "    Else  \n",
        "        For i ← 1 To num Do  \n",
        "            factorial ← factorial * i  \n",
        "        End For  \n",
        "\n",
        "Display \"El factorial de \", num, \" es: \", factorial  \n",
        "    End If  \n",
        "End\n",
        "```\n",
        "\n"
      ],
      "metadata": {
        "id": "0eMP75TjoLoD"
      }
    },
    {
      "cell_type": "markdown",
      "source": [
        "###CODIGO\n"
      ],
      "metadata": {
        "id": "No_Zn_DZoLoE"
      }
    },
    {
      "cell_type": "code",
      "execution_count": null,
      "metadata": {
        "id": "30UEGz96oLoE"
      },
      "outputs": [],
      "source": [
        "num = int(input(\"Ingrese un número entero no negativo: \"))\n",
        "\n",
        "if num < 0:\n",
        "    print(\"El número debe ser no negativo.\")\n",
        "else:\n",
        "    factorial = 1\n",
        "    for i in range(1, num + 1):\n",
        "        factorial *= i\n",
        "\n",
        "    print(\"El factorial de\", num, \"es:\", factorial)"
      ]
    },
    {
      "cell_type": "markdown",
      "source": [
        "## 13. Generador de Discurso Político\n",
        "Imagina que formas parte de un equipo de campaña que necesita crear discursos políticos\n",
        "rápidamente. Para ello, contarás con una tabla de palabras y frases predefinidas para distintas\n",
        "secciones de un discurso: título, público objetivo, condición social, compromiso político, lucha social,\n",
        "promesa, beneficio populista y cantidad de votos (ver Fig. 1). El programa deberá construir un\n",
        "mensaje político seleccionando aleatoriamente una palabra o frase de cada categoría. El mensaje final\n",
        "debe mostrarse al terminar la ejecución del programa. Se recomienda el uso de listas, ciclos y la\n",
        "función de selección aleatoria para generar el discurso. Ejemplo: “Apreciados amigos con su ayuda\n",
        "venceré la pobreza y promoveré la igualdad de la comunidad.”"
      ],
      "metadata": {
        "id": "7y4pFdSEoM3i"
      }
    },
    {
      "cell_type": "markdown",
      "source": [
        "###PSEUDOCODIGO\n",
        "\n",
        "```\n",
        "Program discurso\n",
        "Start  \n",
        "     \n",
        "Declare List titulo ← [\"Queridos\", \"Apreciados\", \"Distinguidos\", \"Honorables\", \"Estimados\", \"Respetados\"]  \n",
        "Declare List publico ← [\"Compatriotas\", \"Copartidarios\", \"Amigos\", \"Coterráneos\", \"Conciudadanos\", \"Electores\"]  \n",
        "Declare List condicion ← [\"En mi gobierno\", \"Con su apoyo\", \"Siendo elegido\", \"Con su ayuda\", \"Si me siguen\", \"Durante mi mandato\"]  \n",
        "    Declare List compromiso ← [\"Voy a derrotar\", \"Venceré\", \"Eliminaré\", \"Acabaré\", \"Lucharé contra\", \"Combatiré\"]  \n",
        "    Declare List lucha ← [\"La violencia y\", \"La delincuencia y\", \"La corrupción y\", \"La inflación y\", \"La pobreza y\", \"El desplazamiento y\"]  \n",
        "    Declare List promesa ← [\"Trabajaré por\", \"Garantizaré\", \"Protegeré\", \"Velaré por\", \"Promoveré\", \"Defenderé\"]  \n",
        "    Declare List beneficio ← [\"La educación\", \"El empleo\", \"La seguridad\", \"La paz\", \"La igualdad\", \"La salud\"]  \n",
        "    Declare List votos ← [\"Del país\", \"De la ciudad\", \"De la comunidad\", \"De la población\", \"Para toda la gente\", \"De cada colombiano\"]  \n",
        "\n",
        "Declare String discurso ← Random(titulo) + \" \" + Random(publico) + \" \" + Random(condicion) + \" \" + Random(compromiso) + \" \" +  \n",
        "                             Random(lucha) + \" \" + Random(promesa) + \" \" + Random(beneficio) + \" \" + Random(votos) + \".\"  \n",
        "\n",
        "   \n",
        "Display discurso  \n",
        "End\n",
        "```"
      ],
      "metadata": {
        "id": "Mq-2ZlJroM3i"
      }
    },
    {
      "cell_type": "markdown",
      "source": [
        "###CODIGO\n"
      ],
      "metadata": {
        "id": "2whficTgoM3k"
      }
    },
    {
      "cell_type": "code",
      "execution_count": null,
      "metadata": {
        "id": "NE8pKTeLoM3k"
      },
      "outputs": [],
      "source": [
        "import random\n",
        "\n",
        "titulo = [\"Queridos\", \"Apreciados\", \"Distinguidos\", \"Honorables\", \"Estimados\", \"Respetados\"]\n",
        "publico = [\"Compatriotas\", \"Copartidarios\", \"Amigos\", \"Coterráneos\", \"Conciudadanos\", \"Electores\"]\n",
        "condicion = [\"En mi gobierno\", \"Con su apoyo\", \"Siendo elegido\", \"Con su ayuda\", \"Si me siguen\", \"Durante mi mandato\"]\n",
        "compromiso = [\"Voy a derrotar\", \"Venceré\", \"Eliminaré\", \"Acabaré\", \"Lucharé contra\", \"Combatiré\"]\n",
        "lucha = [\"La violencia y\", \"La delincuencia y\", \"La corrupción y\", \"La inflación y\", \"La pobreza y\", \"El desplazamiento y\"]\n",
        "promesa = [\"Trabajaré por\", \"Garantizaré\", \"Protegeré\", \"Velaré por\", \"Promoveré\", \"Defenderé\"]\n",
        "beneficio = [\"La educación\", \"El empleo\", \"La seguridad\", \"La paz\", \"La igualdad\", \"La salud\"]\n",
        "votos = [\"Del país\", \"De la ciudad\", \"De la comunidad\", \"De la población\", \"Para toda la gente\", \"De cada colombiano\"]\n",
        "\n",
        "discurso = f\"{random.choice(titulo)} {random.choice(publico)} {random.choice(condicion)} {random.choice(compromiso)} {random.choice(lucha)} {random.choice(promesa)} {random.choice(beneficio)} {random.choice(votos)}.\"\n",
        "print(discurso)"
      ]
    },
    {
      "cell_type": "markdown",
      "source": [
        "##14. Calculadora de Promedio Ponderado\n",
        "Desarrolla un programa que permita calcular el promedio ponderado de una serie de notas. El\n",
        "programa debe pedir al usuario ingresar una calificación y su respectivo porcentaje o peso en cada\n",
        "iteración. Una vez ingresada una calificación con su peso, el programa debe preguntar si desea\n",
        "ingresar otra más. Si el usuario responde \"no\", el programa calcula y muestra el promedio ponderado\n",
        "basado en los valores ingresados hasta ese momento."
      ],
      "metadata": {
        "id": "F-Vk_OVBoNR0"
      }
    },
    {
      "cell_type": "markdown",
      "source": [
        "###PSEUDOCODIGO\n",
        "\n",
        "```\n",
        "PROGRAM PROMEDIO_PONDERADO\n",
        "Start  \n",
        "    \n",
        "Declare total_puntos ← 0.0  \n",
        "    Declare suma_pesos ← 0.0  \n",
        "    Declare String continuar ← \"si\"  \n",
        "\n",
        "While continuar = \"si\" Do  \n",
        "          \n",
        "Display \"Ingrese la calificación: \"  \n",
        "        Input nota  \n",
        "        Display \"Ingrese el peso de la calificación (en porcentaje): \"  \n",
        "        Input peso  \n",
        "\n",
        "        \n",
        "total_puntos ← total_puntos + (nota * (peso / 100))  \n",
        "        suma_pesos ← suma_pesos + (peso / 100)  \n",
        "\n",
        "         \n",
        "Display \"¿Desea ingresar otra calificación? (si/no): \"  \n",
        "        Input continuar  \n",
        "\n",
        "End While  \n",
        "\n",
        "\n",
        "If suma_pesos = 0 Then  \n",
        "        Display \"No se ingresaron calificaciones válidas.\"  \n",
        "    Else  \n",
        "        Declare promedio_ponderado ← total_puntos / suma_pesos  \n",
        "        Display \"El promedio ponderado es: \", promedio_ponderado  \n",
        "    End If  \n",
        "End\n",
        "```"
      ],
      "metadata": {
        "id": "vTeASj4OoNR1"
      }
    },
    {
      "cell_type": "markdown",
      "source": [
        "###CODIGO\n"
      ],
      "metadata": {
        "id": "ptovSs25oNR1"
      }
    },
    {
      "cell_type": "code",
      "execution_count": null,
      "metadata": {
        "id": "OQCtPnzpoNR1"
      },
      "outputs": [],
      "source": [
        "total_puntos = 0.0\n",
        "suma_pesos = 0.0\n",
        "\n",
        "while True:\n",
        "    nota = float(input(\"Ingrese la calificación: \"))\n",
        "    peso = float(input(\"Ingrese el peso de la calificación (en porcentaje): \"))\n",
        "\n",
        "    total_puntos += nota * (peso / 100)\n",
        "    suma_pesos += peso / 100\n",
        "\n",
        "    continuar = input(\"¿Desea ingresar otra calificación? (si/no): \")\n",
        "    if continuar == \"no\":\n",
        "        break\n",
        "\n",
        "if suma_pesos == 0:\n",
        "    print(\"No se ingresaron calificaciones válidas.\")\n",
        "else:\n",
        "    promedio_ponderado = total_puntos / suma_pesos\n",
        "    print(\"El promedio ponderado es:\", promedio_ponderado)"
      ]
    },
    {
      "cell_type": "markdown",
      "source": [
        "##15. Juego de Cara o Sello\n",
        "Crea un programa que permita jugar a \"Cara o Sello\" con el usuario. El programa seleccionará de\n",
        "manera aleatoria \"cara\" o \"sello\" y luego pedirá al usuario que haga su adivinanza. Si acierta, se le\n",
        "sumará un punto. Si falla, tendrá tres intentos antes de que el juego termine. Al finalizar el juego, se le\n",
        "mostrará al usuario la cantidad de puntos obtenidos y se le preguntará si quiere jugar de nuevo. Si el\n",
        "usuario elige \"sí\", el juego se reinicia. Si elige \"no\", el programa finaliza."
      ],
      "metadata": {
        "id": "4NSUl24LoOVB"
      }
    },
    {
      "cell_type": "markdown",
      "source": [
        "###PSEUDOCODIGO\n",
        "\n",
        "```\n",
        "PROGRAM CARA_O_SELLO\n",
        "Start  \n",
        "  \n",
        "Declare Integer puntos ← 0  \n",
        "    Declare String jugar_nuevamente ← \"si\"  \n",
        "\n",
        "While jugar_nuevamente = \"si\" Do  \n",
        "        Declare Integer intentos ← 3  \n",
        "\n",
        "While intentos > 0 Do  \n",
        "           \n",
        "Declare String resultado ← RandomChoice([\"cara\", \"sello\"])  \n",
        "\n",
        "           \n",
        "Display \"Adivina: ¿cara o sello?: \"  \n",
        "Input eleccion  \n",
        "\n",
        "           \n",
        "If eleccion = resultado Then  \n",
        "                Display \"¡Correcto!\"  \n",
        "                puntos ← puntos + 1  \n",
        "            Else  \n",
        "                Display \"Incorrecto. Era \", resultado  \n",
        "                intentos ← intentos - 1  \n",
        "            End If  \n",
        "\n",
        "           \n",
        "If intentos = 0 Then  \n",
        "                Display \"Juego terminado. Puntos obtenidos: \", puntos  \n",
        "                Break  \n",
        "            End If  \n",
        "        End While  \n",
        "\n",
        "     \n",
        "Display \"¿Quieres jugar de nuevo? (si/no): \"  \n",
        "        Input jugar_nuevamente  \n",
        "    End While  \n",
        "End\n",
        "\n",
        "\n",
        "```"
      ],
      "metadata": {
        "id": "u5sj_0YPoOVB"
      }
    },
    {
      "cell_type": "markdown",
      "source": [
        "###CODIGO\n"
      ],
      "metadata": {
        "id": "srnWEo8noOVB"
      }
    },
    {
      "cell_type": "code",
      "execution_count": null,
      "metadata": {
        "id": "1DALBMvuoOVC"
      },
      "outputs": [],
      "source": [
        "import random\n",
        "\n",
        "puntos = 0\n",
        "jugar_nuevamente = \"si\"\n",
        "\n",
        "while jugar_nuevamente == \"si\":\n",
        "    intentos = 3\n",
        "\n",
        "    while intentos > 0:\n",
        "        resultado = random.choice([\"cara\", \"sello\"])\n",
        "        eleccion = input(\"Adivina: ¿cara o sello?: \")\n",
        "\n",
        "        if eleccion == resultado:\n",
        "            print(\"¡Correcto!\")\n",
        "            puntos += 1\n",
        "        else:\n",
        "            print(\"Incorrecto. Era\", resultado)\n",
        "            intentos -= 1\n",
        "\n",
        "        if intentos == 0:\n",
        "            print(\"Juego terminado. Puntos obtenidos:\", puntos)\n",
        "            break\n",
        "\n",
        "    jugar_nuevamente = input(\"¿Quieres jugar de nuevo? (si/no): \")"
      ]
    }
  ]
}