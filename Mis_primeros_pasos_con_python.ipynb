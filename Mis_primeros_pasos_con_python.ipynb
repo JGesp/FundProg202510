{
  "cells": [
    {
      "cell_type": "markdown",
      "metadata": {
        "id": "view-in-github",
        "colab_type": "text"
      },
      "source": [
        "<a href=\"https://colab.research.google.com/github/JGesp/FundProg202510/blob/main/Mis_primeros_pasos_con_python.ipynb\" target=\"_parent\"><img src=\"https://colab.research.google.com/assets/colab-badge.svg\" alt=\"Open In Colab\"/></a>"
      ]
    },
    {
      "cell_type": "markdown",
      "source": [
        "Fecha: 23/02/2025 <br>\n",
        "Nombre: Jose Tomas Velazques Perez<br>\n",
        "ID: 000565025<br>\n",
        "Email: joset.velasquez@upb.edu.co<br>\n",
        "Nombre: Santiago Villarreal Mendivil<br>\n",
        "ID: 000577548<br>\n",
        "Email: santiago.villarreal@upb.edu.co<br>\n",
        "Nombre: Jesus Gabriel Espitia Portillo<br>\n",
        "ID: 000574185<br>\n",
        "Email: jesus.espitia@upb.edu.co<br>\n"
      ],
      "metadata": {
        "id": "r2RzzuJxFUAg"
      }
    },
    {
      "cell_type": "code",
      "source": [
        "#perfil de usuario\n",
        "print(\"perfil del usuario\")\n",
        "nombre = input(\"escriba su nombre:\" + \" \")\n",
        "edad = input(\"escriba su edad:\" + \" \")\n",
        "residencia = input(\"lugar donde vive:\" + \" \")\n",
        "\n",
        "\n",
        "#calcular el area y el volummen de un ortoedro\n",
        "largo = int(input(\"largo:\"))\n",
        "ancho = int(input(\"ancho:\"))\n",
        "altura = int(input(\"altura:\"))\n",
        "volumen = largo * ancho * altura\n",
        "print(volumen)\n",
        "area = 2 * (largo * ancho + largo * altura + ancho * altura)\n",
        "print(area)\n",
        "print(\"ortoedro\")\n",
        "#calcular el area y el volummen de un  cilindro\n",
        "import math\n",
        "radio = int(input(\"radio:\"))\n",
        "altura = int(input(\"altura:\"))\n",
        "volumen = math.pi * radio ** 2 * altura\n",
        "print(volumen)\n",
        "area = 2 * math.pi * radio * (radio + altura)\n",
        "print(area)\n",
        "print(\"cilindro\")\n",
        "#calcular el area y el volumen de una esfera\n",
        "radio = int(input(\"radio:\"))\n",
        "volumen = 4/3 * 3.1416 * 125\n",
        "print(volumen)\n",
        "area = 4 * 3.1416 * 25\n",
        "print(area)\n",
        "print(\"esfera\")"
      ],
      "metadata": {
        "id": "ic-YIOhr4r5I"
      },
      "execution_count": null,
      "outputs": []
    }
  ],
  "metadata": {
    "colab": {
      "toc_visible": true,
      "provenance": [],
      "include_colab_link": true
    },
    "kernelspec": {
      "display_name": "Python 3",
      "name": "python3"
    }
  },
  "nbformat": 4,
  "nbformat_minor": 0
}