{
  "nbformat": 4,
  "nbformat_minor": 0,
  "metadata": {
    "colab": {
      "provenance": [],
      "include_colab_link": true
    },
    "kernelspec": {
      "name": "python3",
      "display_name": "Python 3"
    },
    "language_info": {
      "name": "python"
    }
  },
  "cells": [
    {
      "cell_type": "markdown",
      "metadata": {
        "id": "view-in-github",
        "colab_type": "text"
      },
      "source": [
        "<a href=\"https://colab.research.google.com/github/JGesp/FundProg202510/blob/main/Ejercicios_Pseudocodigo.ipynb\" target=\"_parent\"><img src=\"https://colab.research.google.com/assets/colab-badge.svg\" alt=\"Open In Colab\"/></a>"
      ]
    },
    {
      "cell_type": "markdown",
      "source": [
        "#EJERCICIOS PSEUDOCODIGO<br>\n",
        "Nombre: Jose Tomas Velazques Perez,<br>\n",
        "ID:000565025 <br>\n",
        "Correo: joset.velasquez@upb.edu.co<br>\n",
        "Nombre: Santiago Villarreal Mendivil <br>\n",
        "ID: 000577548 <br>\n",
        "Correo:santiago.villarreal@upb.edu.co <br>\n",
        "Nombre: Jesus Gabriel Espitia Portillo<br>\n",
        "ID:000574185 <br>\n",
        "Correo: jesus.espitia@upb.edu.co <br>\n",
        "\n",
        "##PROBLEMA 1\n",
        "\n",
        "```\n",
        "START\n",
        "\n",
        "  DECLARE String name\n",
        "  DECLARE String city\n",
        "  DECLARE String phone_number\n",
        "  DECLARE String your_university_specialization\n",
        "\n",
        "\n",
        "  Display \"¿Whats's your name?\"\n",
        "  INPUT name\n",
        "\n",
        "  Display \"¿What's your city?\"\n",
        "  INPUT city\n",
        "\n",
        "  Display \"¿What's your phone number?\"\n",
        "  INPUT phone_number\n",
        "\n",
        "  Display \"¿What's your university specialization?\"\n",
        "  INPUT your_university_specialization\n",
        "\n",
        "END\n",
        "```"
      ],
      "metadata": {
        "id": "DRnM8krw7Maa"
      }
    },
    {
      "cell_type": "code",
      "source": [
        "#diseña un programa que muestre la siguiente info\n",
        "name = input(\"¿whats your name?: \")\n",
        "address = input(\"Enter your address, city, state, zip code: \")\n",
        "phone_number= input(\"Enter your phone number: \")\n",
        "university_specialization = input(\"Enter your university specialization: \")\n",
        "\n"
      ],
      "metadata": {
        "colab": {
          "base_uri": "https://localhost:8080/"
        },
        "id": "Vf4jMBEX86dr",
        "outputId": "c13c9674-9a5d-41ea-bf70-44c496ac11f2"
      },
      "execution_count": null,
      "outputs": [
        {
          "name": "stdout",
          "output_type": "stream",
          "text": [
            "¿whats your name?: Dean\n",
            "Enter your address, city, state, zip code: Washington D.C 12948\n",
            "Enter your phone number: 28384732221\n",
            "Enter your university specialization: Electronic Engineer\n"
          ]
        }
      ]
    },
    {
      "cell_type": "markdown",
      "source": [
        "##PROBLEMA 2\n",
        "\n",
        "```\n",
        "START\n",
        "   DECLARE REAL annual_benefit=0.23\n",
        "   DECLARE REAL sales\n",
        "   DECLARE REAL profit\n",
        "   DISPLAY \"enter the projected total sales\"\n",
        "   INPUT sales\n",
        "   SET profit= sales*annual_benefit\n",
        "   DISPLAY \"the projected profit is:\",profit\n",
        "END   \n",
        "\n",
        "```"
      ],
      "metadata": {
        "id": "g-4EKNaaw3ch"
      }
    },
    {
      "cell_type": "code",
      "source": [
        "annual_benefit = 0.23\n",
        "sales = float(input(\"Enter the projected total sales: \"))\n",
        "profit = sales * annual_benefit\n",
        "print(\"The projected profit is:\", profit)"
      ],
      "metadata": {
        "id": "zsepY8eAxe2Y",
        "colab": {
          "base_uri": "https://localhost:8080/"
        },
        "outputId": "d8f5100a-ef1d-43ea-e8ee-f371b82dc601"
      },
      "execution_count": null,
      "outputs": [
        {
          "output_type": "stream",
          "name": "stdout",
          "text": [
            "Enter the projected total sales: 60\n",
            "The projected profit is: 13.8\n"
          ]
        }
      ]
    },
    {
      "cell_type": "markdown",
      "source": [
        "##PROBLEMA 3\n",
        "\n",
        "```\n",
        "START\n",
        "  DECLARE REAL total_square_feet\n",
        "  DECLARE REAL acres\n",
        "  DISPLAY \"Enter the total square feet of the land\"\n",
        "  INPUT total_square_feet\n",
        "  SET acres = total_square_feet / 43560\n",
        "  DISPLAY \"The total acres in the land is:\", acres\n",
        "END\n",
        "```\n"
      ],
      "metadata": {
        "id": "MDRl_ILJB2d-"
      }
    },
    {
      "cell_type": "code",
      "source": [
        "total_square_feet = float(input(\"Enter the total square feet of the land: \"))\n",
        "acres = total_square_feet / 43560\n",
        "print(\"The total acres in the land is:\", acres)"
      ],
      "metadata": {
        "colab": {
          "base_uri": "https://localhost:8080/"
        },
        "id": "g5hUmJQECNAp",
        "outputId": "b543d581-fd7d-4161-c302-b5d5d7fba753"
      },
      "execution_count": null,
      "outputs": [
        {
          "output_type": "stream",
          "name": "stdout",
          "text": [
            "Enter the total square feet of the land: 20000\n",
            "The total acres in the land is: 0.4591368227731864\n"
          ]
        }
      ]
    },
    {
      "cell_type": "markdown",
      "source": [
        "##PROBLEMA 4\n",
        "```\n",
        "START\n",
        "  DECLARE REAL product 1\n",
        "  DECLARE REAL product 2\n",
        "  DECLARE REAL product 3\n",
        "  DECLARE REAL product 4\n",
        "  DECLARE REAL product 4\n",
        "  DECLARE REAL product 5\n",
        "  DECLARE REAL subtotal\n",
        "  DECLARE REAL tax_rate= 0,6\n",
        "  DECLARE REAL tax\n",
        "  DECLARE total\n",
        "\n",
        "  DISPLAY \"Enter the price of the first product\"\n",
        "  INPUT product1\n",
        "  DISPLAY \"Enter the price of the second product\"\n",
        "  INPUT product2\n",
        "  DISPLAY \"Enter the price of the third product\"\n",
        "  INPUT product3\n",
        "  DISPLAY \"Enter the price of the fourth product\"\n",
        "  INPUT product4\n",
        "  DISPLAY \"Enter the price of the fifth product\"\n",
        "  INPUT product5\n",
        "  SET subtotal = product1 + product2 + product3 + product4 + product5\n",
        "  SET tax = subtotal * tax_rate\n",
        "  SET total = subtotal + tax\n",
        "\n",
        "  DISPLAY \"Subtotal:\", subtotal\n",
        "  DISPLAY \"Sales tax:\", tax\n",
        "  DISPLAY \"Total:\", total\n",
        "END\n"
      ],
      "metadata": {
        "id": "kbWu03g9CfSN"
      }
    },
    {
      "cell_type": "code",
      "source": [
        "tax_rate = 0.06\n",
        "product1 = float(input(\"Enter the price of the first product: \"))\n",
        "product2 = float(input(\"Enter the price of the second product: \"))\n",
        "product3 = float(input(\"Enter the price of the third product: \"))\n",
        "product4 = float(input(\"Enter the price of the fourth product: \"))\n",
        "product5 = float(input(\"Enter the price of the fifth product: \"))\n",
        "\n",
        "subtotal = product1 + product2 + product3 + product4 + product5\n",
        "tax = subtotal * tax_rate\n",
        "total = subtotal + tax\n",
        "\n",
        "print(\"Subtotal:\", subtotal)\n",
        "print(\"Sales tax:\", tax)\n",
        "print(\"Total:\", total)"
      ],
      "metadata": {
        "colab": {
          "base_uri": "https://localhost:8080/"
        },
        "id": "dujzT_SGDXtt",
        "outputId": "bd8bf38d-33a9-470c-c864-f0c5992292c4"
      },
      "execution_count": null,
      "outputs": [
        {
          "output_type": "stream",
          "name": "stdout",
          "text": [
            "Enter the price of the first product: 30\n",
            "Enter the price of the second product: 50\n",
            "Enter the price of the third product: 10\n",
            "Enter the price of the fourth product: 50\n",
            "Enter the price of the fifth product: 45\n",
            "Subtotal: 185.0\n",
            "Sales tax: 11.1\n",
            "Total: 196.1\n"
          ]
        }
      ]
    },
    {
      "cell_type": "markdown",
      "source": [
        "##PROBLEMA 5\n",
        "```\n",
        "START\n",
        "  DECLARE INT speed = 60\n",
        "  DECLARE LIST times = [5, 8, 12]\n",
        "  DECLARE INT distance\n",
        "  SET distance = speed * time\n",
        "  DISPLAY “the total distance traveled is:”, time, hours, distance, miles\n",
        "\n",
        "END\n",
        "\n",
        "```"
      ],
      "metadata": {
        "id": "9YfviQK-EtTE"
      }
    },
    {
      "cell_type": "code",
      "source": [
        "speed = 60\n",
        "times = [5, 8, 12]\n",
        "\n",
        "for time in times:\n",
        "    distance = speed * time\n",
        "    print(\"The distance traveled in\", time, \"hour(s) is\", distance, \"miles\")"
      ],
      "metadata": {
        "colab": {
          "base_uri": "https://localhost:8080/"
        },
        "id": "dOQ37ghaGUbD",
        "outputId": "1f502375-933c-45b3-e80b-435bb972ef09"
      },
      "execution_count": null,
      "outputs": [
        {
          "output_type": "stream",
          "name": "stdout",
          "text": [
            "The distance traveled in 5 hour(s) is 300 miles\n",
            "The distance traveled in 8 hour(s) is 480 miles\n",
            "The distance traveled in 12 hour(s) is 720 miles\n"
          ]
        }
      ]
    },
    {
      "cell_type": "markdown",
      "source": [
        "##PROBLEMA 6\n",
        "```\n",
        "START\n",
        "\n",
        "  DECLARE REAL purchase_amount\n",
        "  DECLARE REAL state_tax_rate = 0.04\n",
        "  DECLARE REAL country_tax_rate =0.02\n",
        "  DECLARE REAL state_tax\n",
        "  DECLARE REAL county_tax\n",
        "  DECLARE REAL total_tax\n",
        "  DECLARE REAL total_sale\n",
        "  DISPLAY \"Enter the purchase amount:\"\n",
        "  INPUT purchase_amount\n",
        "  SET state_tax  = purchase_amount * state_tax_rate\n",
        "  SET county_tax = purchase_amount * county_tax_rate\n",
        "  SET total_tax = state_tax * county_tax\n",
        "  SET total_sale = purchase_amount + total_tax\n",
        "  DISPLAY \"Purchase amount:\", purchase_amount  \n",
        "  DISPLAY \"State sales tax:\", state_tax  \n",
        "  DISPLAY \"County sales tax:\", county_tax  \n",
        "  DISPLAY \"Total sales tax:\", total_tax  \n",
        "  DISPLAY \"Total sale amount:\", total_sale\n",
        "\n",
        "END\n",
        "```"
      ],
      "metadata": {
        "id": "AjpAzOR_HS1f"
      }
    },
    {
      "cell_type": "code",
      "execution_count": null,
      "metadata": {
        "colab": {
          "base_uri": "https://localhost:8080/"
        },
        "id": "XLalO9NBI4L_",
        "outputId": "beaaf1ca-a2f6-4a13-9235-5075a0c933ba"
      },
      "outputs": [
        {
          "output_type": "stream",
          "name": "stdout",
          "text": [
            "Enter the purchase amount:5\n",
            "Purchase amount: 5\n",
            "State tax: 0.2\n",
            "County tax: 0.1\n",
            "Total tax: 0.30000000000000004\n",
            "Total amount: 5\n",
            "Purchase amount: 5\n",
            "State tax: 0.2\n",
            "County tax: 0.1\n",
            "Total tax: 0.30000000000000004\n",
            "Total amount: 5\n"
          ]
        }
      ],
      "source": [
        "state_tax_rate = 0.04\n",
        "county_tax_rate = 0.02\n",
        "purchase_amount = float(input(\"Enter the purchase amount:\"))\n",
        "state_tax = purchase_amount * state_tax_rate\n",
        "county_tax = purchase_amount * county_tax_rate\n",
        "total_tax = state_tax + county_tax\n",
        "total_amount = purchase_amount + total_tax\n",
        "print(\"Purchase amount:\", int(purchase_amount))\n",
        "print(\"State tax:\", state_tax)\n",
        "print(\"County tax:\", county_tax)\n",
        "print(\"Total tax:\", total_tax)\n",
        "print(\"Total amount:\", int(total_amount))\n",
        "county_tax = purchase_amount * county_tax_rate\n",
        "total_tax = state_tax + county_tax\n",
        "total_amount = purchase_amount + total_tax\n",
        "print(\"Purchase amount:\", int(purchase_amount))\n",
        "print(\"State tax:\", state_tax)\n",
        "print(\"County tax:\", county_tax)\n",
        "print(\"Total tax:\", total_tax)\n",
        "print(\"Total amount:\", int(total_amount))\n"
      ]
    },
    {
      "cell_type": "markdown",
      "source": [
        "##PROBLEMA 7\n",
        "\n",
        "```\n",
        "START\n",
        "\n",
        "  DECLARE REAL miles_traveled\n",
        "  DECLARE REAL gallons_used\n",
        "  DECLARE REAL mpg\n",
        "  DISPLAY \"Enter the number of miles traveled:\"\n",
        "  INPUT miles_traveled\n",
        "  DISPLAY \"Enter the number of gallons of gasoline used:\"\n",
        "  INPUT gallons_used\n",
        "  SET mpg = miles_traveled / gallons_used\n",
        "  DISPLAY \"Miles per gallon (MPG):\", mpg\n",
        "\n",
        "END\n",
        "```"
      ],
      "metadata": {
        "id": "Anic3zrmH3Ox"
      }
    },
    {
      "cell_type": "code",
      "source": [
        "miles_driven = float(input(\"Enter the miles driven: \"))\n",
        "gallons_used = float(input(\"Enter the gallons of gasoline used: \"))\n",
        "mpg = miles_driven / gallons_used\n",
        "print(\"Miles per gallon (MPG):\", mpg)"
      ],
      "metadata": {
        "colab": {
          "base_uri": "https://localhost:8080/"
        },
        "id": "T8zP2pyHIGwW",
        "outputId": "b3b7c286-a593-42ed-f014-a4890eee8f84"
      },
      "execution_count": null,
      "outputs": [
        {
          "output_type": "stream",
          "name": "stdout",
          "text": [
            "Enter the miles driven: 50\n",
            "Enter the gallons of gasoline used: 2\n",
            "Miles per gallon (MPG): 25.0\n"
          ]
        }
      ]
    },
    {
      "cell_type": "markdown",
      "source": [
        "##PROBLEMA 8\n",
        "```\n",
        "START\n",
        "\n",
        "  DECLARE REAL meal_cost\n",
        "  DECLARE REAL tip_rate = 0.15\n",
        "  DECLARE REAL tax_rate = 0.07\n",
        "  DECLARE REAL tip_amount\n",
        "  DECLARE REAL tax_amount\n",
        "  DECLARE REAL total_amount\n",
        "  DISPLAY \"Enter the cost of the meal:\"\n",
        "  INPUT meal_cost\n",
        "  SET tip_amount = meal_cost * tip_rate\n",
        "  SET tax_amount = meal_cost * tax_rate\n",
        "  SET total_amount = meal_cost + tip_amount + tax_amount\n",
        "  DISPLAY \"Meal cost:\", meal_cost\n",
        "  DISPLAY \"Tip amount:\", tip_amount\n",
        "  DISPLAY \"Tax amount:\", tax_amount\n",
        "  DISPLAY \"Total amount:\", total_amount\n",
        "\n",
        "END\n",
        "```"
      ],
      "metadata": {
        "id": "aNYb72tPISrB"
      }
    },
    {
      "cell_type": "code",
      "source": [
        "TIP_RATE = 0.15\n",
        "TAX_RATE = 0.07\n",
        "meal_cost = float(input(\"Enter the cost of the meal: \"))\n",
        "tip_amount = meal_cost * TIP_RATE\n",
        "tax_amount = meal_cost * TAX_RATE\n",
        "total_amount = meal_cost + tip_amount + tax_amount\n",
        "print(\"Meal cost:\", meal_cost)\n",
        "print(\"Tip amount:\", tip_amount)\n",
        "print(\"Tax amount:\", tax_amount)\n",
        "print(\"Total amount:\", total_amount)"
      ],
      "metadata": {
        "colab": {
          "base_uri": "https://localhost:8080/"
        },
        "id": "I-MEeuLmIeWY",
        "outputId": "a9f12fe5-879c-495a-c829-77586d7f0d64"
      },
      "execution_count": null,
      "outputs": [
        {
          "output_type": "stream",
          "name": "stdout",
          "text": [
            "Enter the cost of the meal: 25\n",
            "Meal cost: 25.0\n",
            "Tip amount: 3.75\n",
            "Tax amount: 1.7500000000000002\n",
            "Total amount: 30.5\n"
          ]
        }
      ]
    },
    {
      "cell_type": "markdown",
      "source": [
        "##PROBLEMA 9\n",
        "\n",
        "```\n",
        "START\n",
        "  DECLARE REAL celcius\n",
        "  DECLARE REAL fahrenheit\n",
        "  DISPLAY “Enter the temperature in celcius”\n",
        "  INPUT celcius\n",
        "  SET fahrenheit = (9/5*celcius)+32\n",
        "  DISPLAY “The temperature in fahrenheit is:”, fahrenheit\n",
        "\n",
        "END\n",
        "```"
      ],
      "metadata": {
        "id": "Oo5TC2P-In7m"
      }
    },
    {
      "cell_type": "code",
      "source": [
        "celcius = float(input(\"Enter the temperature in celcius:\"))\n",
        "fahrenheit = (9/5*celcius)+32\n",
        "print(\"The temperature in fahrenheit is:\", fahrenheit)"
      ],
      "metadata": {
        "colab": {
          "base_uri": "https://localhost:8080/"
        },
        "id": "Rm3xh_LvJbgq",
        "outputId": "8456c6ab-88c5-4c6f-9bd4-50cce7977f91"
      },
      "execution_count": null,
      "outputs": [
        {
          "output_type": "stream",
          "name": "stdout",
          "text": [
            "Enter the temperature in celcius:25\n",
            "The temperature in fahrenheit is: 77.0\n"
          ]
        }
      ]
    },
    {
      "cell_type": "markdown",
      "source": [
        "##PROBLEMA 10\n",
        "\n",
        "```\n",
        "START  \n",
        "   DECLARE INT shares = 1000  \n",
        "   DECLARE REAL purchase_price = 32.87  \n",
        "   DECLARE REAL selling_price = 33.92  \n",
        "   DECLARE REAL commission_rate = 0.02  \n",
        "\n",
        "   SET amount_paid = shares * purchase_price  \n",
        "   SET purchase_commission = amount_paid * commission_rate  \n",
        "\n",
        "   SET amount_sold = shares * selling_price  \n",
        "   SET selling_commission = amount_sold * commission_rate  \n",
        "\n",
        "   SET profit_loss = amount_sold - amount_paid - purchase_commission - selling_commission  \n",
        "\n",
        "   DISPLAY \"Amount paid for the shares:\", amount_paid  \n",
        "   DISPLAY \"Purchase commission:\", purchase_commission  \n",
        "   DISPLAY \"Amount received from selling the shares:\", amount_sold  \n",
        "   DISPLAY \"Selling commission:\", selling_commission  \n",
        "   DISPLAY \"Total profit or loss:\", profit_loss  \n",
        "END  \n",
        "```"
      ],
      "metadata": {
        "id": "HwQ0AUCgJfL-"
      }
    },
    {
      "cell_type": "code",
      "source": [
        "shares = 1000\n",
        "purchase_price = 32.87\n",
        "selling_price = 33.92\n",
        "commission_rate = 0.02\n",
        "\n",
        "amount_paid = shares * purchase_price\n",
        "purchase_commission = amount_paid * commission_rate\n",
        "\n",
        "amount_sold = shares * selling_price\n",
        "selling_commission = amount_sold * commission_rate\n",
        "\n",
        "profit_loss = amount_sold - amount_paid - purchase_commission - selling_commission\n",
        "\n",
        "print(\"Amount paid for the shares:\", amount_paid)\n",
        "print(\"Purchase commission:\", purchase_commission)\n",
        "print(\"Amount received from selling the shares:\", amount_sold)\n",
        "print(\"Selling commission:\", selling_commission)\n",
        "print(\"Total profit or loss:\", profit_loss)"
      ],
      "metadata": {
        "colab": {
          "base_uri": "https://localhost:8080/"
        },
        "id": "Vg_rbBlcJuP0",
        "outputId": "300a46eb-6b52-460f-c4e0-73b8eb0a1f80"
      },
      "execution_count": null,
      "outputs": [
        {
          "output_type": "stream",
          "name": "stdout",
          "text": [
            "Amount paid for the shares: 32870.0\n",
            "Purchase commission: 657.4\n",
            "Amount received from selling the shares: 33920.0\n",
            "Selling commission: 678.4\n",
            "Total profit or loss: -285.79999999999995\n"
          ]
        }
      ]
    },
    {
      "cell_type": "markdown",
      "source": [
        "##PROBLEMA 11\n",
        "```\n",
        "START\n",
        "\n",
        "  DECLARE REAL profit_or_loss\n",
        "  DECLARE REAL purchase_price\n",
        "  DECLARE REAL renovation_cost\n",
        "  DECLARE REAL sale_price\n",
        "  DECLARE REAL commission_rate\n",
        "  DECLARE REAL commission_amount\n",
        "  DISPLAY “Enter the purchase price of the house:”  \n",
        "  INPUT purchase_price\n",
        "  DISPLAY “Enter the renovation cost:”\n",
        "  INPUT renovation_cost\n",
        "  DISPLAY “Enter the commission rate\"\n",
        "  INPUT commission_rate\n",
        "  SET commission_amount=  sale_price * commission_rate\n",
        "  SET profit_or_loss = sale_price - (purchase_price+ renovation_cost + commission_amount)\n",
        "  DISPLAY \"Commission amount:\", commission_amount\n",
        "  DISPLAY \"Profit or loss:\",profit_or_loss\n",
        "  \n",
        "END\n",
        "```"
      ],
      "metadata": {
        "id": "bZ6s-T64JwON"
      }
    },
    {
      "cell_type": "code",
      "source": [
        "purchase_price = float(input(\"Enter the purchase price of the house: \"))\n",
        "renovation_cost = float(input(\"Enter the renovation cost: \"))\n",
        "sale_price = float(input(\"Enter the sale price of the house: \"))\n",
        "commission_rate = float(input(\"Enter the commission rate (as a decimal): \"))\n",
        "\n",
        "commission_amount = sale_price * commission_rate\n",
        "profit_or_loss = sale_price - (purchase_price + renovation_cost + commission_amount)\n",
        "\n",
        "print(\"Commission amount:\", commission_amount)\n",
        "print(\"Profit or loss:\", profit_or_loss)"
      ],
      "metadata": {
        "colab": {
          "base_uri": "https://localhost:8080/"
        },
        "id": "qHoBiupxKsZo",
        "outputId": "b15dda1b-4b73-4933-8fd1-1ae731e98298"
      },
      "execution_count": null,
      "outputs": [
        {
          "output_type": "stream",
          "name": "stdout",
          "text": [
            "Enter the purchase price of the house: 80000\n",
            "Enter the renovation cost: 10000\n",
            "Enter the sale price of the house: 60000\n",
            "Enter the commission rate (as a decimal): 0.1\n",
            "Commission amount: 6000.0\n",
            "Profit or loss: -36000.0\n"
          ]
        }
      ]
    },
    {
      "cell_type": "markdown",
      "source": [
        "##PROBLEMA 12\n",
        "```\n",
        "START\n",
        "  DECLARE REAL radius  \n",
        "  DECLARE REAL pi = 3.1416\n",
        "  DECLARE REAL area   \n",
        "  DISPLAY \"Enter the radius of the circle:\"  \n",
        "  INPUT radius SET area = pi * radius * radius  \n",
        "  DISPLAY \"The area of the circle is:\", area  \n",
        "\n",
        "END\n",
        "```"
      ],
      "metadata": {
        "id": "33_nWgF7KMUU"
      }
    },
    {
      "cell_type": "code",
      "source": [
        "pi = 3.1416\n",
        "radius = float(input(\"Enter the radius of the circle: \"))\n",
        "area = pi * radius * radius\n",
        "print(\"The area of the circle is:\", area)\n"
      ],
      "metadata": {
        "colab": {
          "base_uri": "https://localhost:8080/"
        },
        "id": "2L8C-tFsMGGZ",
        "outputId": "f913dfd7-c631-4da9-a676-588419661abe"
      },
      "execution_count": null,
      "outputs": [
        {
          "output_type": "stream",
          "name": "stdout",
          "text": [
            "Enter the radius of the circle: 15\n",
            "The area of the circle is: 706.86\n"
          ]
        }
      ]
    },
    {
      "cell_type": "markdown",
      "source": [
        "##PROBLEMA 13\n",
        "```\n",
        "START\n",
        "\n",
        "DECLARE INTEGER muffins_needed\n",
        "DECLARE REAL milk\n",
        "DECLARE REAL flour\n",
        "DECLARE REAL yeast\n",
        "DECLARE REAL salt\n",
        "DECLARE REAL sugar\n",
        "DECLARE REAL eggs\n",
        "DECLARE REAL butter\n",
        "DISPLAY “Enter the number of muffins to make:”\n",
        "INPUT muffins_needed\n",
        "SET milk = (240\\10) * muffins_needed\n",
        "SET flour = (280\\10) *muffins_needed\n",
        "SET yeast = (30\\10) * muffins_needed\n",
        "SET salt = (2.5\\10) * muffins_needed\n",
        "SET sugar = (100\\10) * muffins_needed\n",
        "SET eggs = (2\\10) * muffins_needed\n",
        "SET butter = (15\\10) * muffins_needed\n",
        "DISPLAY \"Ingredients needed for\", muffins_needed, \"muffins:\"  \n",
        "DISPLAY \"Milk (ml):\", milk  \n",
        "DISPLAY \"Flour (g):\", flour  \n",
        "DISPLAY \"Yeast (g):\", yeast  \n",
        "DISPLAY \"Salt (g):\", salt  \n",
        "DISPLAY \"Sugar (g):\", sugar  \n",
        "DISPLAY \"Eggs:\", eggs  \n",
        "DISPLAY \"Butter (g):\", butter\n",
        "END\n",
        "```\n"
      ],
      "metadata": {
        "id": "t4uxoGCyMV78"
      }
    },
    {
      "cell_type": "code",
      "source": [
        "muffins_needed = int(input(\"Enter the number of muffins to make: \"))\n",
        "milk = (240 / 10) * muffins_needed\n",
        "flour = (280 / 10) * muffins_needed\n",
        "yeast = (30 / 10) * muffins_needed\n",
        "salt = (2.5 / 10) * muffins_needed\n",
        "sugar = (100 / 10) * muffins_needed\n",
        "eggs = (2 / 10) * muffins_needed\n",
        "butter = (15 / 10) * muffins_needed\n",
        "print(\"Ingredients needed for\"), muffins_needed, \"muffins:\"\n",
        "print(\"Milk (ml):\", milk)\n",
        "print(\"Flour (g):\", flour)\n",
        "print(\"Yeast (g):\", yeast)\n",
        "print(\"Salt (g):\", salt)\n",
        "print(\"Sugar (g):\", sugar)\n",
        "print(\"Eggs:\", eggs)\n",
        "print(\"Butter (g):\", butter)\n"
      ],
      "metadata": {
        "colab": {
          "base_uri": "https://localhost:8080/"
        },
        "id": "z3Fc9XAPOQsY",
        "outputId": "a3e70c0f-e6a5-40a1-9096-38c7ed604ec6"
      },
      "execution_count": null,
      "outputs": [
        {
          "output_type": "stream",
          "name": "stdout",
          "text": [
            "Enter the number of muffins to make: 10\n",
            "Ingredients needed for\n",
            "Milk (ml): 240.0\n",
            "Flour (g): 280.0\n",
            "Yeast (g): 30.0\n",
            "Salt (g): 2.5\n",
            "Sugar (g): 100.0\n",
            "Eggs: 2.0\n",
            "Butter (g): 15.0\n"
          ]
        }
      ]
    },
    {
      "cell_type": "markdown",
      "source": [
        "##PROBLEMA 14\n",
        "```\n",
        "START\n",
        "\n",
        "  DECLARE REAL grade1  \n",
        "  DECLARE REAL grade2  \n",
        "  DECLARE REAL weight1  \n",
        "  DECLARE REAL weight2  \n",
        "  DECLARE REAL weighted_average  \n",
        "  DISPLAY \"Enter the first grade:\" I\n",
        "  INPUT grade1  \n",
        "  DISPLAY \"Enter the weight of the first grade:\"  \n",
        "  INPUT weight1  \n",
        "  DISPLAY \"Enter the second grade:\"  \n",
        "  INPUT grade2  \n",
        "  DISPLAY \"Enter the weight of the second grade:\"  \n",
        "  INPUT weight2  \n",
        "  SET weighted_average = ((grade1 * weight1) + (grade2 * weight2)) / (weight1 + weight2)\n",
        "  DISPLAY \"The weighted average is:\", weighted_average  \n",
        "\n",
        "END\n",
        "```\n"
      ],
      "metadata": {
        "id": "m3dDkJvCO0iY"
      }
    },
    {
      "cell_type": "code",
      "source": [
        "grade1 = float(input(\"Enter the first grade: \"))\n",
        "weight1 = float(input(\"Enter the weight of the first grade: \"))\n",
        "grade2 = float(input( \"Enter the second grade: \"))\n",
        "weight2 = float(input(\"Enter the weight of the second grade: \"))\n",
        "weighted_average = ((grade1 * weight1) + (grade2 * weight2)) / (weight1 + weight2)\n",
        "print(\"The weighted average is:\", weighted_average)"
      ],
      "metadata": {
        "colab": {
          "base_uri": "https://localhost:8080/"
        },
        "id": "iFKnvehiPEVH",
        "outputId": "63ed353b-90e9-4fc7-c330-011ec01b57ed"
      },
      "execution_count": null,
      "outputs": [
        {
          "output_type": "stream",
          "name": "stdout",
          "text": [
            "Enter the first grade: 4.0\n",
            "Enter the weight of the first grade: 0.15\n",
            "Enter the second grade: 3.0\n",
            "Enter the weight of the second grade: 0.85\n",
            "The weighted average is: 3.15\n"
          ]
        }
      ]
    },
    {
      "cell_type": "markdown",
      "source": [
        "##PROBLEMA 15\n",
        "```\n",
        "START  \n",
        "   DECLARE REAL gross_salary  \n",
        "   DECLARE REAL tax_rate  \n",
        "   DECLARE REAL tax_amount  \n",
        "   DECLARE REAL net_salary  \n",
        "   DISPLAY \"Enter your gross monthly salary:\"  \n",
        "   INPUT gross_salary  \n",
        "   DISPLAY \"Enter the tax rate (as a decimal):\"  \n",
        "   INPUT tax_rate  \n",
        "   SET tax_amount = gross_salary * tax_rate  \n",
        "   SET net_salary = gross_salary - tax_amount  \n",
        "   DISPLAY \"Tax amount:\", tax_amount  \n",
        "   DISPLAY \"Net salary:\", net_salary  \n",
        "\n",
        "END\n",
        "\n",
        "```"
      ],
      "metadata": {
        "id": "a1xKseGVP3vm"
      }
    },
    {
      "cell_type": "code",
      "source": [
        "gross_salary = float(input(\"Enter your gross monthly salary: \"))\n",
        "tax_rate = float(input(\"Enter the tax rate (as a decimal): \"))\n",
        "\n",
        "tax_amount = gross_salary * tax_rate\n",
        "net_salary = gross_salary - tax_amount\n",
        "\n",
        "print(\"Tax amount:\", tax_amount)\n",
        "print(\"Net salary:\", net_salary)"
      ],
      "metadata": {
        "colab": {
          "base_uri": "https://localhost:8080/"
        },
        "id": "zl2I03VRQhQX",
        "outputId": "091f6a89-221f-4e11-96d3-226602d56677"
      },
      "execution_count": null,
      "outputs": [
        {
          "output_type": "stream",
          "name": "stdout",
          "text": [
            "Enter your gross monthly salary: 1000\n",
            "Enter the tax rate (as a decimal): 0.10\n",
            "Tax amount: 100.0\n",
            "Net salary: 900.0\n"
          ]
        }
      ]
    },
    {
      "cell_type": "markdown",
      "source": [
        "##PROBLEMA 16\n",
        "\n",
        "```\n",
        "START  \n",
        "\n",
        "DECLARE REAL weight  \n",
        "DECLARE REAL height  \n",
        "DECLARE REAL bmi  \n",
        "\n",
        "DISPLAY \"Enter your weight (kg):\"  \n",
        "INPUT weight  \n",
        "\n",
        "DISPLAY \"Enter your height (m):\"  \n",
        "INPUT height  \n",
        "\n",
        "SET bmi = weight / (height * height)  \n",
        "\n",
        "DISPLAY \"Your Body Mass Index (BMI) is:\", bmi  \n",
        "\n",
        "END\n",
        "```\n",
        "\n"
      ],
      "metadata": {
        "id": "Gmng-nR8Q1P7"
      }
    },
    {
      "cell_type": "code",
      "source": [
        "weight = float(input(\"Enter your weight (kg): \"))\n",
        "height = float(input(\"Enter your height (m): \"))\n",
        "\n",
        "bmi = weight / (height ** 2)\n",
        "\n",
        "print(\"Your Body Mass Index (BMI) is:\", bmi)"
      ],
      "metadata": {
        "colab": {
          "base_uri": "https://localhost:8080/"
        },
        "id": "JWAjWJSXXbNT",
        "outputId": "16fb3ec7-a9f9-4b4b-b21d-b4705c47426e"
      },
      "execution_count": null,
      "outputs": [
        {
          "output_type": "stream",
          "name": "stdout",
          "text": [
            "Enter your weight (kg): 70\n",
            "Enter your height (m): 1.80\n",
            "Your Body Mass Index (BMI) is: 21.604938271604937\n"
          ]
        }
      ]
    },
    {
      "cell_type": "markdown",
      "source": [
        "##PROBLEMA 17\n",
        "```\n",
        "START  \n",
        "\n",
        "  DECLARE INT age_years  \n",
        "  DECLARE INT age_days  \n",
        "  DISPLAY \"Enter your age in years:\"  \n",
        "  INPUT age_years  \n",
        "  SET age_days = age_years * 365  \n",
        "  DISPLAY \"Your age in days is:\", age_days  \n",
        "\n",
        "END\n",
        "```\n"
      ],
      "metadata": {
        "id": "GY08YR2sYqBX"
      }
    },
    {
      "cell_type": "code",
      "source": [
        "age_years = int(input(\"Enter your age in years: \"))\n",
        "\n",
        "age_days = age_years * 365\n",
        "\n",
        "print(\"Your age in days is:\", age_days)\n"
      ],
      "metadata": {
        "colab": {
          "base_uri": "https://localhost:8080/"
        },
        "id": "kfQ3I7KbY8Th",
        "outputId": "43e6296e-fac5-40a5-d6d2-1f81568b7ebf"
      },
      "execution_count": null,
      "outputs": [
        {
          "output_type": "stream",
          "name": "stdout",
          "text": [
            "Enter your age in years: 17\n",
            "Your age in days is: 6205\n"
          ]
        }
      ]
    },
    {
      "cell_type": "markdown",
      "source": [
        "##PROBLEMA 18\n",
        "```\n",
        "START  \n",
        "\n",
        "  DECLARE REAL principal  \n",
        "  DECLARE REAL annual_rate  \n",
        "  DECLARE INT years  \n",
        "  DECLARE INT times_per_year  \n",
        "  DECLARE REAL final_amount  \n",
        "  DISPLAY \"Enter the initial capital:\"  \n",
        "  INPUT principal  \n",
        "  DISPLAY \"Enter the annual interest rate\"  \n",
        "  INPUT annual_rate  \n",
        "  DISPLAY \"Enter the number of years:\"  \n",
        "  INPUT years  \n",
        "  DISPLAY \"Enter the number of times the interest compounds per year:\"  \n",
        "  INPUT times_per_year  \n",
        "  SET annual_rate = annual_rate / 100  \n",
        "  SET final_amount = principal * (1 + (annual_rate / times_per_year)) ^ (times_per_year * years)  \n",
        "  DISPLAY \"Final investment amount:\", final_amount  \n",
        "\n",
        "END  \n",
        "```"
      ],
      "metadata": {
        "id": "6zh367DNZNlO"
      }
    },
    {
      "cell_type": "code",
      "source": [
        "principal = float(input(\"Enter the initial capital: \"))\n",
        "annual_rate = float(input(\"Enter the annual interest rate (percentage): \"))\n",
        "years = int(input(\"Enter the number of years: \"))\n",
        "times_per_year = int(input(\"Enter the number of times the interest compounds per year: \"))\n",
        "\n",
        "annual_rate /= 100\n",
        "final_amount = principal * (1 + (annual_rate / times_per_year)) ** (times_per_year * years)\n",
        "\n",
        "print(\"Final investment amount:\", final_amount)"
      ],
      "metadata": {
        "colab": {
          "base_uri": "https://localhost:8080/"
        },
        "id": "VtZZWPcbZhDz",
        "outputId": "eb72df4b-8b43-47d2-d9de-f6e5a2005f2e"
      },
      "execution_count": null,
      "outputs": [
        {
          "output_type": "stream",
          "name": "stdout",
          "text": [
            "Enter the initial capital: 500\n",
            "Enter the annual interest rate (percentage): 0.20\n",
            "Enter the number of years: 4\n",
            "Enter the number of times the interest compounds per year: 2\n",
            "Final investment amount: 504.0140280350276\n"
          ]
        }
      ]
    }
  ]
}